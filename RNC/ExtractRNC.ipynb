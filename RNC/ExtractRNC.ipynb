{
 "cells": [
  {
   "cell_type": "markdown",
   "metadata": {},
   "source": [
    "Скрипт для извлечения набора RNC-архивов из ROM'а с последующей разархивацией.\n",
    "\n",
    "Извлечение архивов производится с помощью утилиты ppami.exe для amiga (http://aminet.net/package/util/pack/RNC_ProPack), которая исполняется на эмуляторе AmigaOS (https://github.com/cnvogelg/amitools)."
   ]
  },
  {
   "cell_type": "code",
   "execution_count": null,
   "metadata": {
    "collapsed": true
   },
   "outputs": [],
   "source": [
    "import struct\n",
    "import subprocess"
   ]
  },
  {
   "cell_type": "code",
   "execution_count": null,
   "metadata": {
    "collapsed": true
   },
   "outputs": [],
   "source": [
    "cadEditorDir = \"d:/DEV/MYGIT/CadEditor/\" #test at CadEditor v3.5\n",
    "jbDir = cadEditorDir + \"settings_sega_jungle_book/\"\n",
    "romName    = cadEditorDir + \"Jungle Book, The (U) [!].gen\""
   ]
  },
  {
   "cell_type": "markdown",
   "metadata": {},
   "source": [
    "Извлечение RNC-архива из массива байт"
   ]
  },
  {
   "cell_type": "code",
   "execution_count": null,
   "metadata": {
    "collapsed": true
   },
   "outputs": [],
   "source": [
    "def extractRncData(rom, offset):\n",
    "    if rom[offset : offset + 3] != \"RNC\":\n",
    "        raise Exception(\"Not RNC archive\")\n",
    "    size, = struct.unpack(\">I\", rom[offset+8 : offset+12])\n",
    "    return rom[offset : offset + size + 0x12]"
   ]
  },
  {
   "cell_type": "markdown",
   "metadata": {},
   "source": [
    "Вызов анпакера из в текущей директории. Смена рабочей директории не поддерживаются из-за бага vamos"
   ]
  },
  {
   "cell_type": "code",
   "execution_count": null,
   "metadata": {
    "collapsed": false
   },
   "outputs": [],
   "source": [
    "def callAmigaRncPacker(workDir, fnameIn):\n",
    "    #\"work:\"+fnameIn] \n",
    "    #\"-V\", \"work:%s\"%workDir\n",
    "    p = subprocess.Popen([\"vamos\", \"ppami.exe\", \"p\", \"d\", fnameIn], stdout = subprocess.PIPE, shell = True)\n",
    "    return p"
   ]
  },
  {
   "cell_type": "code",
   "execution_count": null,
   "metadata": {
    "collapsed": true
   },
   "outputs": [],
   "source": [
    "def callAmigaRncUnpacker(workDir, fnameIn):\n",
    "    #\"work:\"+fnameIn] \n",
    "    #\"-V\", \"work:%s\"%workDir\n",
    "    p = subprocess.Popen([\"vamos\", \"ppami.exe\", \"u\", \"d\", \".bin\" , fnameIn], stdout = subprocess.PIPE, shell = True)\n",
    "    return p"
   ]
  },
  {
   "cell_type": "markdown",
   "metadata": {},
   "source": [
    "Поиск и извлечение всех RNC-архивов из ROM\n",
    "---"
   ]
  },
  {
   "cell_type": "code",
   "execution_count": null,
   "metadata": {
    "collapsed": true
   },
   "outputs": [],
   "source": [
    "with open(romName, \"rb\") as f:\n",
    "    buf = f.read()"
   ]
  },
  {
   "cell_type": "code",
   "execution_count": null,
   "metadata": {
    "collapsed": false
   },
   "outputs": [],
   "source": [
    "i = 0    \n",
    "while True: \n",
    "    i = buf.find(\"RNC\", i+1)\n",
    "    if i == -1:\n",
    "        break\n",
    "    rncVersion, = struct.unpack(\">B\", buf[i+3])\n",
    "    if rncVersion > 2:\n",
    "        continue\n",
    "    #todo check special version for RNC0, that not packed and not stored sizeUnpacked\n",
    "    size, = struct.unpack(\">I\", buf[i+8 : i+12]) \n",
    "    sizeUnpacked, = struct.unpack(\">I\", buf[i+4 : i+8])\n",
    "    if size > sizeUnpacked:\n",
    "        continue\n",
    "    #todo add checking packed size CRC\n",
    "    print \"Found RNC at address:\", hex(i), \"Size:\",size,\"/\", sizeUnpacked\n",
    "    rncData = extractRncData(buf, i)\n",
    "    mapFname = \"map_\"+hex(i)[2:]+\".rnc\"\n",
    "    with open(mapFname, \"wb\") as fo:\n",
    "        fo.write(rncData)\n",
    "    p = callAmigaRncUnpacker(jbDir, mapFname)\n",
    "    print p.stdout.read()\n",
    "    print \"----------------------------------\""
   ]
  },
  {
   "cell_type": "markdown",
   "metadata": {},
   "source": [
    "Парсинг конфигов\n",
    "---"
   ]
  },
  {
   "cell_type": "markdown",
   "metadata": {},
   "source": [
    "Дампим в эмуляторе палитру в файл, находим в ROM палитру и указатель на неё, попадаем на конфиги всех уровней игры.\n",
    "Размер конфига 68 байт, карта тайлов нулевого уровня по адресу 0x1A17EC, выводим данные о конфигах уровней, необходимые для отрисовки карты\n",
    "Адреса специфичные для Jungle Book"
   ]
  },
  {
   "cell_type": "code",
   "execution_count": null,
   "metadata": {
    "collapsed": true
   },
   "outputs": [],
   "source": [
    "startAddr = 0x1A17EC\n",
    "configSize = 68"
   ]
  },
  {
   "cell_type": "code",
   "execution_count": null,
   "metadata": {
    "collapsed": false
   },
   "outputs": [],
   "source": [
    "for x in xrange(16):\n",
    "    print \"Config for level\", x\n",
    "    curConfigAddr = startAddr + x*configSize\n",
    "    \n",
    "    print hex(curConfigAddr)\n",
    "    map1, = struct.unpack(\">I\", buf[curConfigAddr + 8 : curConfigAddr + 12])\n",
    "    print \"  Map:\", hex(map1 & 0x7FFFFF)\n",
    "    mapW, mapH = struct.unpack(\">HH\", buf[curConfigAddr + 30: curConfigAddr + 34])\n",
    "    print \"  Map size  :\", mapW,\"x\",mapH\n",
    "    layerB, = struct.unpack(\">I\", buf[curConfigAddr + 14 : curConfigAddr + 18])\n",
    "    print \"  LayerB    :\", hex(layerB)\n",
    "    palAddr, = struct.unpack(\">I\", buf[curConfigAddr + 18 : curConfigAddr + 22])\n",
    "    print \"  Pal       :\", hex(palAddr)\n",
    "    tileMap, = struct.unpack(\">I\", buf[curConfigAddr + 22 : curConfigAddr + 26])\n",
    "    print \"  Tilemap   :\", hex(tileMap)\n",
    "    enemy, = struct.unpack(\">I\", buf[curConfigAddr : curConfigAddr + 4])\n",
    "    print \"  Enemy       :\", hex(enemy)\n",
    "    "
   ]
  },
  {
   "cell_type": "code",
   "execution_count": null,
   "metadata": {
    "collapsed": true
   },
   "outputs": [],
   "source": []
  }
 ],
 "metadata": {
  "kernelspec": {
   "display_name": "Python 2",
   "language": "python",
   "name": "python2"
  },
  "language_info": {
   "codemirror_mode": {
    "name": "ipython",
    "version": 2
   },
   "file_extension": ".py",
   "mimetype": "text/x-python",
   "name": "python",
   "nbconvert_exporter": "python",
   "pygments_lexer": "ipython2",
   "version": "2.7.11"
  }
 },
 "nbformat": 4,
 "nbformat_minor": 0
}
