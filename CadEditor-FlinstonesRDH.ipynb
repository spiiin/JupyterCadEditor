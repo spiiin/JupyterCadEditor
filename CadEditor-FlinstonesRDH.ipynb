{
 "cells": [
  {
   "cell_type": "markdown",
   "metadata": {},
   "source": [
    "Инициализация.\n",
    "---"
   ]
  },
  {
   "cell_type": "code",
   "execution_count": 1,
   "metadata": {
    "collapsed": true
   },
   "outputs": [],
   "source": [
    "import sys\n",
    "cadEditorDir = \"d:/DEV/MYGIT/CadEditor/\" #test at CadEditor v3.5\n",
    "sys.path.append(cadEditorDir)\n",
    "import clr\n",
    "clr.AddReference(\"CadEditor\")\n",
    "from CadEditor import Globals, ConfigScript, Utils, OffsetRec\n",
    "from array import array\n",
    "\n",
    "romName    = cadEditorDir + \"Flintstones, The - The Rescue of Dino & Hoppy (U) [!].nes\""
   ]
  },
  {
   "cell_type": "markdown",
   "metadata": {},
   "source": [
    "Подсчёт количества макроблоков на уровне\n",
    "---\n",
    "* Макроблоки в игре нумеруются нестандартно - сначала увеличиваются первые 4 бита номера, потом разряд перебрасывается в младшие биты. Т.е. порядок выглядит так: 0x00, 0x10, 0x20, 0x30, ... , 0xD0, 0xE0, 0xF0, 0x01, 0x11, 0x21, 0x31, ...,0x,D1, 0xE1, 0xF1, 0x02, 0x12, 0x22, ..., 0xDF, 0xDE, 0xDF\n",
    "Соответсвенно, количество макроблоков на уровне можно вычислить как разницу между максимально возможным числом (256) и количеством невстречаемых элементов."
   ]
  },
  {
   "cell_type": "code",
   "execution_count": 2,
   "metadata": {
    "collapsed": false
   },
   "outputs": [],
   "source": [
    "def invertNibbles(v):\n",
    "    return v >> 4 | (v & 0x0F) << 4\n",
    "\n",
    "def getMaxMacroBlockIndex(indexList):\n",
    "    maxIndexInv = 0x00\n",
    "    for index in indexList:\n",
    "        indexInv = invertNibbles(index)\n",
    "        if indexInv > maxIndexInv:\n",
    "            maxIndexInv = indexInv\n",
    "    return invertNibbles(maxIndexInv)\n",
    "\n",
    "def calcMacroBlocksCount(indexList) :\n",
    "    return invertNibbles(getMaxMacroBlockIndex(indexList))+1"
   ]
  },
  {
   "cell_type": "markdown",
   "metadata": {},
   "source": [
    "Рассчёт количества блоков (обычная арифметика)"
   ]
  },
  {
   "cell_type": "code",
   "execution_count": 3,
   "metadata": {
    "collapsed": false
   },
   "outputs": [],
   "source": [
    "def calcMacroBlockAddr():\n",
    "    offRec = ConfigScript.screensOffset[0]\n",
    "    return  offRec.beginAddr +  offRec.width * offRec.height\n",
    "\n",
    "def readMacroBlocksFromFromRom(mbCount):\n",
    "    rom = array(\"i\", Globals.romdata)\n",
    "    mbAddr = calcMacroBlockAddr()\n",
    "    mbData = rom[mbAddr:mbAddr+mbCount*16]\n",
    "    return mbData\n",
    "\n",
    "def calcBlocksCount(mbData):\n",
    "    return max(mbData)+1\n",
    "\n",
    "def calcBlockAddr(mbCount):\n",
    "    return calcMacroBlockAddr() + 16*mbCount\n",
    "\n",
    "def calcBlockSubpalAddr(mbCount, bCount):\n",
    "    return calcBlockAddr(mbCount) + bCount * 4"
   ]
  },
  {
   "cell_type": "markdown",
   "metadata": {},
   "source": [
    "Подсчёт для всех конфигов игры"
   ]
  },
  {
   "cell_type": "code",
   "execution_count": 4,
   "metadata": {
    "collapsed": false
   },
   "outputs": [
    {
     "name": "stdout",
     "output_type": "stream",
     "text": [
      "Количество макроблоков для уровня 1 :\n",
      "  Макс. индекс:0xdf\n"
     ]
    },
    {
     "data": {
      "text/html": [
       "<table border=\"1\" cellpadding=\"3\" cellspacing=\"0\"  style=\"border:1px solid black;border-collapse:collapse;\"><tr><td  style=\"background-color:LightGray;\"><b>Уровень&nbsp1</b></td><td  style=\"background-color:LightGray;\"><b>Адрес</b></td><td  style=\"background-color:LightGray;\"><b>Кол-во</b></td><td  style=\"background-color:LightGray;\"><b>Размер</b></td></tr><tr><td  style=\"background-color:Ivory;\">Макроблоки</td><td  style=\"background-color:Ivory;\">&nbsp&nbsp&nbsp0x1f0</td><td  style=\"background-color:Ivory;\">&nbsp254</td><td  style=\"background-color:Ivory;\">4064</td></tr><tr><td  style=\"background-color:AliceBlue;\">Блоки</td><td  style=\"background-color:AliceBlue;\">&nbsp&nbsp0x11d0</td><td  style=\"background-color:AliceBlue;\">&nbsp238</td><td  style=\"background-color:AliceBlue;\">&nbsp952</td></tr><tr><td  style=\"background-color:Ivory;\">Аттр.блоков</td><td  style=\"background-color:Ivory;\">&nbsp&nbsp0x1588</td><td  style=\"background-color:Ivory;\">&nbsp238</td><td  style=\"background-color:Ivory;\">&nbsp238</td></tr></table>"
      ],
      "text/plain": [
       "<ipy_table.IpyTable at 0x3839050>"
      ]
     },
     "metadata": {},
     "output_type": "display_data"
    },
    {
     "name": "stdout",
     "output_type": "stream",
     "text": [
      "Количество макроблоков для уровня 2 :\n",
      "  Макс. индекс:0xcf\n"
     ]
    },
    {
     "data": {
      "text/html": [
       "<table border=\"1\" cellpadding=\"3\" cellspacing=\"0\"  style=\"border:1px solid black;border-collapse:collapse;\"><tr><td  style=\"background-color:LightGray;\"><b>Уровень&nbsp2</b></td><td  style=\"background-color:LightGray;\"><b>Адрес</b></td><td  style=\"background-color:LightGray;\"><b>Кол-во</b></td><td  style=\"background-color:LightGray;\"><b>Размер</b></td></tr><tr><td  style=\"background-color:Ivory;\">Макроблоки</td><td  style=\"background-color:Ivory;\">&nbsp&nbsp0x1719</td><td  style=\"background-color:Ivory;\">&nbsp253</td><td  style=\"background-color:Ivory;\">4048</td></tr><tr><td  style=\"background-color:AliceBlue;\">Блоки</td><td  style=\"background-color:AliceBlue;\">&nbsp&nbsp0x26e9</td><td  style=\"background-color:AliceBlue;\">&nbsp256</td><td  style=\"background-color:AliceBlue;\">1024</td></tr><tr><td  style=\"background-color:Ivory;\">Аттр.блоков</td><td  style=\"background-color:Ivory;\">&nbsp&nbsp0x2ae9</td><td  style=\"background-color:Ivory;\">&nbsp256</td><td  style=\"background-color:Ivory;\">&nbsp256</td></tr></table>"
      ],
      "text/plain": [
       "<ipy_table.IpyTable at 0x3839270>"
      ]
     },
     "metadata": {},
     "output_type": "display_data"
    },
    {
     "name": "stdout",
     "output_type": "stream",
     "text": [
      "Количество макроблоков для уровня 3 :\n",
      "  Макс. индекс:0x4f\n"
     ]
    },
    {
     "data": {
      "text/html": [
       "<table border=\"1\" cellpadding=\"3\" cellspacing=\"0\"  style=\"border:1px solid black;border-collapse:collapse;\"><tr><td  style=\"background-color:LightGray;\"><b>Уровень&nbsp3</b></td><td  style=\"background-color:LightGray;\"><b>Адрес</b></td><td  style=\"background-color:LightGray;\"><b>Кол-во</b></td><td  style=\"background-color:LightGray;\"><b>Размер</b></td></tr><tr><td  style=\"background-color:Ivory;\">Макроблоки</td><td  style=\"background-color:Ivory;\">&nbsp0x124bf</td><td  style=\"background-color:Ivory;\">&nbsp245</td><td  style=\"background-color:Ivory;\">3920</td></tr><tr><td  style=\"background-color:AliceBlue;\">Блоки</td><td  style=\"background-color:AliceBlue;\">&nbsp0x1340f</td><td  style=\"background-color:AliceBlue;\">&nbsp256</td><td  style=\"background-color:AliceBlue;\">1024</td></tr><tr><td  style=\"background-color:Ivory;\">Аттр.блоков</td><td  style=\"background-color:Ivory;\">&nbsp0x1380f</td><td  style=\"background-color:Ivory;\">&nbsp256</td><td  style=\"background-color:Ivory;\">&nbsp256</td></tr></table>"
      ],
      "text/plain": [
       "<ipy_table.IpyTable at 0x3821e10>"
      ]
     },
     "metadata": {},
     "output_type": "display_data"
    },
    {
     "name": "stdout",
     "output_type": "stream",
     "text": [
      "Количество макроблоков для уровня 4 :\n",
      "  Макс. индекс:0x2f\n"
     ]
    },
    {
     "data": {
      "text/html": [
       "<table border=\"1\" cellpadding=\"3\" cellspacing=\"0\"  style=\"border:1px solid black;border-collapse:collapse;\"><tr><td  style=\"background-color:LightGray;\"><b>Уровень&nbsp4</b></td><td  style=\"background-color:LightGray;\"><b>Адрес</b></td><td  style=\"background-color:LightGray;\"><b>Кол-во</b></td><td  style=\"background-color:LightGray;\"><b>Размер</b></td></tr><tr><td  style=\"background-color:Ivory;\">Макроблоки</td><td  style=\"background-color:Ivory;\">&nbsp&nbsp0x2b31</td><td  style=\"background-color:Ivory;\">&nbsp243</td><td  style=\"background-color:Ivory;\">3888</td></tr><tr><td  style=\"background-color:AliceBlue;\">Блоки</td><td  style=\"background-color:AliceBlue;\">&nbsp&nbsp0x3a61</td><td  style=\"background-color:AliceBlue;\">&nbsp256</td><td  style=\"background-color:AliceBlue;\">1024</td></tr><tr><td  style=\"background-color:Ivory;\">Аттр.блоков</td><td  style=\"background-color:Ivory;\">&nbsp&nbsp0x3e61</td><td  style=\"background-color:Ivory;\">&nbsp256</td><td  style=\"background-color:Ivory;\">&nbsp256</td></tr></table>"
      ],
      "text/plain": [
       "<ipy_table.IpyTable at 0x3839270>"
      ]
     },
     "metadata": {},
     "output_type": "display_data"
    },
    {
     "name": "stdout",
     "output_type": "stream",
     "text": [
      "Количество макроблоков для уровня 5 :\n",
      "  Макс. индекс:0x2f\n"
     ]
    },
    {
     "data": {
      "text/html": [
       "<table border=\"1\" cellpadding=\"3\" cellspacing=\"0\"  style=\"border:1px solid black;border-collapse:collapse;\"><tr><td  style=\"background-color:LightGray;\"><b>Уровень&nbsp5</b></td><td  style=\"background-color:LightGray;\"><b>Адрес</b></td><td  style=\"background-color:LightGray;\"><b>Кол-во</b></td><td  style=\"background-color:LightGray;\"><b>Размер</b></td></tr><tr><td  style=\"background-color:Ivory;\">Макроблоки</td><td  style=\"background-color:Ivory;\">&nbsp&nbsp0x31f4</td><td  style=\"background-color:Ivory;\">&nbsp243</td><td  style=\"background-color:Ivory;\">3888</td></tr><tr><td  style=\"background-color:AliceBlue;\">Блоки</td><td  style=\"background-color:AliceBlue;\">&nbsp&nbsp0x4124</td><td  style=\"background-color:AliceBlue;\">&nbsp256</td><td  style=\"background-color:AliceBlue;\">1024</td></tr><tr><td  style=\"background-color:Ivory;\">Аттр.блоков</td><td  style=\"background-color:Ivory;\">&nbsp&nbsp0x4524</td><td  style=\"background-color:Ivory;\">&nbsp256</td><td  style=\"background-color:Ivory;\">&nbsp256</td></tr></table>"
      ],
      "text/plain": [
       "<ipy_table.IpyTable at 0x3821f70>"
      ]
     },
     "metadata": {},
     "output_type": "display_data"
    },
    {
     "name": "stdout",
     "output_type": "stream",
     "text": [
      "Количество макроблоков для уровня 6 :\n",
      "  Макс. индекс:0xcf\n"
     ]
    },
    {
     "data": {
      "text/html": [
       "<table border=\"1\" cellpadding=\"3\" cellspacing=\"0\"  style=\"border:1px solid black;border-collapse:collapse;\"><tr><td  style=\"background-color:LightGray;\"><b>Уровень&nbsp6</b></td><td  style=\"background-color:LightGray;\"><b>Адрес</b></td><td  style=\"background-color:LightGray;\"><b>Кол-во</b></td><td  style=\"background-color:LightGray;\"><b>Размер</b></td></tr><tr><td  style=\"background-color:Ivory;\">Макроблоки</td><td  style=\"background-color:Ivory;\">&nbsp&nbsp0x4190</td><td  style=\"background-color:Ivory;\">&nbsp253</td><td  style=\"background-color:Ivory;\">4048</td></tr><tr><td  style=\"background-color:AliceBlue;\">Блоки</td><td  style=\"background-color:AliceBlue;\">&nbsp&nbsp0x5160</td><td  style=\"background-color:AliceBlue;\">&nbsp256</td><td  style=\"background-color:AliceBlue;\">1024</td></tr><tr><td  style=\"background-color:Ivory;\">Аттр.блоков</td><td  style=\"background-color:Ivory;\">&nbsp&nbsp0x5560</td><td  style=\"background-color:Ivory;\">&nbsp256</td><td  style=\"background-color:Ivory;\">&nbsp256</td></tr></table>"
      ],
      "text/plain": [
       "<ipy_table.IpyTable at 0x3821fd0>"
      ]
     },
     "metadata": {},
     "output_type": "display_data"
    },
    {
     "name": "stdout",
     "output_type": "stream",
     "text": [
      "Количество макроблоков для уровня 7 :\n",
      "  Макс. индекс:0xf\n"
     ]
    },
    {
     "data": {
      "text/html": [
       "<table border=\"1\" cellpadding=\"3\" cellspacing=\"0\"  style=\"border:1px solid black;border-collapse:collapse;\"><tr><td  style=\"background-color:LightGray;\"><b>Уровень&nbsp7</b></td><td  style=\"background-color:LightGray;\"><b>Адрес</b></td><td  style=\"background-color:LightGray;\"><b>Кол-во</b></td><td  style=\"background-color:LightGray;\"><b>Размер</b></td></tr><tr><td  style=\"background-color:Ivory;\">Макроблоки</td><td  style=\"background-color:Ivory;\">&nbsp&nbsp0x3b34</td><td  style=\"background-color:Ivory;\">&nbsp241</td><td  style=\"background-color:Ivory;\">3856</td></tr><tr><td  style=\"background-color:AliceBlue;\">Блоки</td><td  style=\"background-color:AliceBlue;\">&nbsp&nbsp0x4a44</td><td  style=\"background-color:AliceBlue;\">&nbsp256</td><td  style=\"background-color:AliceBlue;\">1024</td></tr><tr><td  style=\"background-color:Ivory;\">Аттр.блоков</td><td  style=\"background-color:Ivory;\">&nbsp&nbsp0x4e44</td><td  style=\"background-color:Ivory;\">&nbsp256</td><td  style=\"background-color:Ivory;\">&nbsp256</td></tr></table>"
      ],
      "text/plain": [
       "<ipy_table.IpyTable at 0x3821f70>"
      ]
     },
     "metadata": {},
     "output_type": "display_data"
    }
   ],
   "source": [
    "from IPython.display import display\n",
    "from ipy_table import *\n",
    "\n",
    "for i in xrange(7):\n",
    "    levelNo = i+1\n",
    "    configName = cadEditorDir + \"settings_flintstones_rescue_of_dino_and_hoppy/Settings_Flintstones-%d.cs\"%levelNo\n",
    "    Globals.loadData(romName, \"\", configName) #reload Globals & ConfigScript for current level\n",
    "    screenData = Utils.setScreens(0)[0]       #read screen 0 for level 0 in config\n",
    "    a = array(\"i\", screenData)                #load data from .NET array to python array\n",
    "    toTable = []\n",
    "    mbCount = calcMacroBlocksCount(a)\n",
    "    print \"Количество макроблоков для уровня %d :\"%levelNo\n",
    "    print \"  Макс. индекс:%s\"%hex(invertNibbles(mbCount-1))\n",
    "    #закомментировать для блог записи, вывод информации для базы IDA\n",
    "    mbAddr = calcMacroBlockAddr()\n",
    "    mbData = readMacroBlocksFromFromRom(mbCount)\n",
    "    toTable.append([u\"Уровень %d\"%levelNo, u\"Адрес\", u\"Кол-во\", u\"Размер\"])\n",
    "    toTable.append([u\"Макроблоки\", u\"%8s\"%hex(mbAddr), u\"%4d\"%mbCount, u\"%4d\"%len(mbData)])\n",
    "    bCount = calcBlocksCount(mbData)\n",
    "    toTable.append([u\"Блоки\", u\"%8s\"%hex(calcBlockAddr(mbCount)),u\"%4d\"%bCount, u\"%4d\"%(bCount*4)])\n",
    "    toTable.append([u\"Аттр.блоков\",u\"%8s\"%hex(calcBlockSubpalAddr(mbCount, bCount)), u\"%4d\"%bCount, u\"%4d\"%bCount])\n",
    "    t = make_table(toTable)\n",
    "    t.apply_theme(\"basic\")\n",
    "    display(t)\n",
    "    "
   ]
  },
  {
   "cell_type": "markdown",
   "metadata": {},
   "source": [
    "То же самое для уровня, для которого нет конфига, а известен только стартовый адрес и размер экрана"
   ]
  },
  {
   "cell_type": "code",
   "execution_count": 5,
   "metadata": {
    "collapsed": false
   },
   "outputs": [
    {
     "name": "stdout",
     "output_type": "stream",
     "text": [
      "Количество макроблоков для уровня X\n",
      "  Макс. индекс:0x78\n"
     ]
    },
    {
     "data": {
      "text/html": [
       "<table border=\"1\" cellpadding=\"3\" cellspacing=\"0\"  style=\"border:1px solid black;border-collapse:collapse;\"><tr><td  style=\"background-color:LightGray;\"><b>Уровень&nbspX</b></td><td  style=\"background-color:LightGray;\"><b>Адрес</b></td><td  style=\"background-color:LightGray;\"><b>Кол-во</b></td><td  style=\"background-color:LightGray;\"><b>Размер</b></td></tr><tr><td  style=\"background-color:Ivory;\">Макроблоки</td><td  style=\"background-color:Ivory;\">&nbsp&nbsp0x5429</td><td  style=\"background-color:Ivory;\">&nbsp136</td><td  style=\"background-color:Ivory;\">2176</td></tr><tr><td  style=\"background-color:AliceBlue;\">Блоки</td><td  style=\"background-color:AliceBlue;\">&nbsp&nbsp0x5ca9</td><td  style=\"background-color:AliceBlue;\">&nbsp179</td><td  style=\"background-color:AliceBlue;\">&nbsp716</td></tr><tr><td  style=\"background-color:Ivory;\">Аттр.блоков</td><td  style=\"background-color:Ivory;\">&nbsp&nbsp0x5f75</td><td  style=\"background-color:Ivory;\">&nbsp179</td><td  style=\"background-color:Ivory;\">&nbsp179</td></tr></table>"
      ],
      "text/plain": [
       "<ipy_table.IpyTable at 0x377d390>"
      ]
     },
     "metadata": {},
     "output_type": "display_data"
    }
   ],
   "source": [
    "addr = 0x52A9\n",
    "size = 384\n",
    "#addr = 0x604c\n",
    "#size = 8*32\n",
    "rom = array(\"i\", Globals.romdata)\n",
    "\n",
    "a = rom[addr:addr+size]\n",
    "\n",
    "toTable = []\n",
    "mbCount = calcMacroBlocksCount(a)\n",
    "print \"Количество макроблоков для уровня X\"\n",
    "print \"  Макс. индекс:%s\"%hex(invertNibbles(mbCount-1))\n",
    "#закомментировать для блог записи, вывод информации для базы IDA\n",
    "#---\n",
    "mbAddr = addr + size\n",
    "mbData = rom[mbAddr:mbAddr+mbCount*16]\n",
    "toTable.append([u\"Уровень X\", u\"Адрес\", u\"Кол-во\", u\"Размер\"])\n",
    "toTable.append([u\"Макроблоки\", u\"%8s\"%hex(mbAddr), u\"%4d\"%mbCount, u\"%4d\"%len(mbData)])\n",
    "#---\n",
    "bCount = calcBlocksCount(mbData)\n",
    "bAddr = mbAddr + mbCount*16\n",
    "toTable.append([u\"Блоки\", u\"%8s\"%hex(bAddr),u\"%4d\"%bCount, u\"%4d\"%(bCount*4)])\n",
    "toTable.append([u\"Аттр.блоков\",u\"%8s\"%hex(bAddr+4*bCount), u\"%4d\"%bCount, u\"%4d\"%bCount])\n",
    "t = make_table(toTable)\n",
    "t.apply_theme(\"basic\")\n",
    "display(t)"
   ]
  },
  {
   "cell_type": "markdown",
   "metadata": {
    "collapsed": true
   },
   "source": [
    "Flinstones: The Surprise at Dinosaur Peak!\n",
    "---\n",
    "А теперь для Flinstones: The Surprise at Dinosaur Peak!<br>\n",
    "Отличаются только размер макроблока 4x2, и следовательно порядок макроблоков (первыми меняются старшие 3 бита, далее инкрементируются в лексикографическом порядке младшие 5 бит."
   ]
  },
  {
   "cell_type": "code",
   "execution_count": 6,
   "metadata": {
    "collapsed": false
   },
   "outputs": [
    {
     "name": "stdout",
     "output_type": "stream",
     "text": [
      "105\n"
     ]
    }
   ],
   "source": [
    "def invertNibbles3(v):\n",
    "    return v >> 5 | (v & 0x1F) << 3\n",
    "\n",
    "def invertNibbles5(v):\n",
    "    return v >> 3 | (v & 0x07) << 5\n",
    "\n",
    "def getMaxMacroBlockIndex3(indexList):\n",
    "    maxIndexInv = 0x00\n",
    "    for index in indexList:\n",
    "        indexInv = invertNibbles5(index)\n",
    "        if indexInv > maxIndexInv:\n",
    "            maxIndexInv = indexInv\n",
    "    return invertNibbles3(maxIndexInv)\n",
    "\n",
    "def calcMacroBlocksCount3(indexList) :\n",
    "    return invertNibbles5(getMaxMacroBlockIndex3(indexList))+1\n",
    "\n",
    "print calcMacroBlocksCount3([0x43])"
   ]
  },
  {
   "cell_type": "code",
   "execution_count": 7,
   "metadata": {
    "collapsed": false
   },
   "outputs": [
    {
     "name": "stdout",
     "output_type": "stream",
     "text": [
      "Количество макроблоков для уровня X\n",
      "  Макс. индекс:0x43\n"
     ]
    },
    {
     "data": {
      "text/html": [
       "<table border=\"1\" cellpadding=\"3\" cellspacing=\"0\"  style=\"border:1px solid black;border-collapse:collapse;\"><tr><td  style=\"background-color:LightGray;\"><b>Уровень&nbspX</b></td><td  style=\"background-color:LightGray;\"><b>Адрес</b></td><td  style=\"background-color:LightGray;\"><b>Кол-во</b></td><td  style=\"background-color:LightGray;\"><b>Размер</b></td></tr><tr><td  style=\"background-color:Ivory;\">Макроблоки</td><td  style=\"background-color:Ivory;\">&nbsp&nbsp0xdb33</td><td  style=\"background-color:Ivory;\">&nbsp105</td><td  style=\"background-color:Ivory;\">&nbsp840</td></tr><tr><td  style=\"background-color:AliceBlue;\">Блоки</td><td  style=\"background-color:AliceBlue;\">&nbsp&nbsp0xde7b</td><td  style=\"background-color:AliceBlue;\">&nbsp162</td><td  style=\"background-color:AliceBlue;\">&nbsp648</td></tr><tr><td  style=\"background-color:Ivory;\">Аттр.блоков</td><td  style=\"background-color:Ivory;\">&nbsp&nbsp0xe103</td><td  style=\"background-color:Ivory;\">&nbsp162</td><td  style=\"background-color:Ivory;\">&nbsp162</td></tr></table>"
      ],
      "text/plain": [
       "<ipy_table.IpyTable at 0x3821070>"
      ]
     },
     "metadata": {},
     "output_type": "display_data"
    }
   ],
   "source": [
    "addr = 0xD833\n",
    "size = 8*96\n",
    "\n",
    "romName    = cadEditorDir + \"Flintstones, The - The Surprise at Dinosaur Peak! (U) [!p].nes\"\n",
    "configName = cadEditorDir + \"settings_flintstones_surprise_at_dinosaur_peak/Settings_Flintstones2-%d.cs\"%1\n",
    "Globals.loadData(romName, \"\", configName) #reload Globals & ConfigScript for current level\n",
    "\n",
    "rom = array(\"i\", Globals.romdata)\n",
    "\n",
    "a = rom[addr:addr+size]\n",
    "\n",
    "toTable = []\n",
    "mbCount = calcMacroBlocksCount3(a)\n",
    "print \"Количество макроблоков для уровня X\"\n",
    "print \"  Макс. индекс:%s\"%hex(invertNibbles3(mbCount-1))\n",
    "#закомментировать для блог записи, вывод информации для базы IDA\n",
    "#---\n",
    "mbAddr = addr + size\n",
    "mbData = rom[mbAddr:mbAddr+mbCount*8]\n",
    "toTable.append([u\"Уровень X\", u\"Адрес\", u\"Кол-во\", u\"Размер\"])\n",
    "toTable.append([u\"Макроблоки\", u\"%8s\"%hex(mbAddr), u\"%4d\"%mbCount, u\"%4d\"%len(mbData)])\n",
    "#---\n",
    "bCount = calcBlocksCount(mbData)\n",
    "bAddr = mbAddr + mbCount*8\n",
    "toTable.append([u\"Блоки\", u\"%8s\"%hex(bAddr),u\"%4d\"%bCount, u\"%4d\"%(bCount*4)])\n",
    "toTable.append([u\"Аттр.блоков\",u\"%8s\"%hex(bAddr+4*bCount), u\"%4d\"%bCount, u\"%4d\"%bCount])\n",
    "t = make_table(toTable)\n",
    "t.apply_theme(\"basic\")\n",
    "display(t)"
   ]
  }
 ],
 "metadata": {
  "kernelspec": {
   "display_name": "Python 2",
   "language": "python",
   "name": "python2"
  },
  "language_info": {
   "codemirror_mode": {
    "name": "ipython",
    "version": 2
   },
   "file_extension": ".py",
   "mimetype": "text/x-python",
   "name": "python",
   "nbconvert_exporter": "python",
   "pygments_lexer": "ipython2",
   "version": "2.7.11"
  }
 },
 "nbformat": 4,
 "nbformat_minor": 0
}
