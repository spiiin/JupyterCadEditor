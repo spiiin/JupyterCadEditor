{
 "cells": [
  {
   "cell_type": "code",
   "execution_count": null,
   "metadata": {
    "collapsed": true
   },
   "outputs": [],
   "source": [
    "import cadEditorPath\n",
    "from cadEditorPath import cadEditorDir, picPath"
   ]
  },
  {
   "cell_type": "code",
   "execution_count": null,
   "metadata": {
    "collapsed": true
   },
   "outputs": [],
   "source": [
    "import clr\n",
    "clr.AddReference(\"CadEditor\")\n",
    "clr.AddReference(\"PluginVideoNes\")\n",
    "pass"
   ]
  },
  {
   "cell_type": "code",
   "execution_count": null,
   "metadata": {
    "collapsed": true
   },
   "outputs": [],
   "source": [
    "from CadEditor import Globals, ConfigScript\n",
    "from PluginVideoNes import Video"
   ]
  },
  {
   "cell_type": "code",
   "execution_count": null,
   "metadata": {},
   "outputs": [],
   "source": [
    "#romName    = cadEditorDir + \"Teenage Mutant Ninja Turtles III - The Manhattan Project (U) [!].nes\"\n",
    "#configName = cadEditorDir + \"settings_tmnt3/Settings_Tmnt3-1.cs\"\n",
    "\n",
    "#romName    = cadEditorDir + \"Teenage Mutant Ninja Turtles II - The Arcade Game (U) [!].nes\"\n",
    "#configName = cadEditorDir + \"settings_tmnt2/Settings_Tmnt2-10.cs\"\n",
    "\n",
    "#romName    = cadEditorDir + \"Battletoads & Double Dragon - The Ultimate Team (E) [!p].nes\"\n",
    "#configName = cadEditorDir + \"settings_battletoads_and_double_dragon/Settings_BattletoadsDoubleDragon-2.cs\"\n",
    "\n",
    "romName    = cadEditorDir + \"Mickey's Adventures in Numberland (U) [!p].nes\"\n",
    "configName = cadEditorDir + \"settings_mickey_s_adventures_in_numberland/Settings_normal_Number_5.cs\"\n",
    "\n",
    "Globals.loadData(romName, \"\", configName)"
   ]
  },
  {
   "cell_type": "code",
   "execution_count": null,
   "metadata": {
    "collapsed": true
   },
   "outputs": [],
   "source": [
    "video = Video()\n",
    "from IPython.display import display, Image"
   ]
  },
  {
   "cell_type": "code",
   "execution_count": null,
   "metadata": {},
   "outputs": [],
   "source": [
    "#//make capcom screen image\n",
    "#Bitmap makeScreen(int scrNo, int levelNo, int videoNo, int bigBlockNo, int blockNo, int palleteNo, float scale = 2.0f, bool withBorders = true)\n",
    "for bc in range(256,32,-1):\n",
    "    ConfigScript.palBytesAddr = ConfigScript.getTilesAddr(0) + bc*16\n",
    "    #ConfigScript.palBytesAddr = ConfigScript.getTilesAddr(0) + bc\n",
    "    #ConfigScript.palBytesAddr = ConfigScript.getTilesAddr(0) + 83*16 + bc\n",
    "    scr = video.makeScreen(0, 0, 0, 0, 0, 0)\n",
    "    fn = picPath+\"%03d.png\"%bc\n",
    "    scr.Save(fn)\n",
    "    print(bc)\n",
    "    display(Image(fn))"
   ]
  },
  {
   "cell_type": "code",
   "execution_count": null,
   "metadata": {
    "collapsed": true
   },
   "outputs": [],
   "source": []
  }
 ],
 "metadata": {
  "kernelspec": {
   "display_name": "Python 3",
   "language": "python",
   "name": "python3"
  },
  "language_info": {
   "codemirror_mode": {
    "name": "ipython",
    "version": 3
   },
   "file_extension": ".py",
   "mimetype": "text/x-python",
   "name": "python",
   "nbconvert_exporter": "python",
   "pygments_lexer": "ipython3",
   "version": "3.6.1"
  }
 },
 "nbformat": 4,
 "nbformat_minor": 1
}
