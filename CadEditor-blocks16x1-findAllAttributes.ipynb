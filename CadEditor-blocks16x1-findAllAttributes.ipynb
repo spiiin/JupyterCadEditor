{
 "cells": [
  {
   "cell_type": "code",
   "execution_count": null,
   "metadata": {
    "collapsed": true
   },
   "outputs": [],
   "source": [
    "import sys\n",
    "cadEditorDir = \"d:/DEV/CadEditor/CadEditor/\"\n",
    "sys.path.append(cadEditorDir)"
   ]
  },
  {
   "cell_type": "code",
   "execution_count": null,
   "metadata": {
    "collapsed": true
   },
   "outputs": [],
   "source": [
    "import clr\n",
    "clr.AddReference(\"CadEditor\")\n",
    "clr.AddReference(\"PluginVideoNes\")\n",
    "pass"
   ]
  },
  {
   "cell_type": "code",
   "execution_count": null,
   "metadata": {
    "collapsed": true
   },
   "outputs": [],
   "source": [
    "from CadEditor import Globals, ConfigScript\n",
    "from PluginVideoNes import Video"
   ]
  },
  {
   "cell_type": "code",
   "execution_count": null,
   "metadata": {
    "collapsed": false
   },
   "outputs": [],
   "source": [
    "#romName    = cadEditorDir + \"Teenage Mutant Ninja Turtles III - The Manhattan Project (U) [!].nes\"\n",
    "#configName = cadEditorDir + \"settings_tmnt3/Settings_Tmnt3-1.cs\"\n",
    "\n",
    "#romName    = cadEditorDir + \"Teenage Mutant Ninja Turtles II - The Arcade Game (U) [!].nes\"\n",
    "#configName = cadEditorDir + \"settings_tmnt2/Settings_Tmnt2-10.cs\"\n",
    "\n",
    "#romName    = cadEditorDir + \"Battletoads & Double Dragon - The Ultimate Team (E) [!p].nes\"\n",
    "#configName = cadEditorDir + \"settings_battletoads_and_double_dragon/Settings_BattletoadsDoubleDragon-2.cs\"\n",
    "\n",
    "romName    = cadEditorDir + \"Mickey's Adventures in Numberland (U) [!p].nes\"\n",
    "configName = cadEditorDir + \"settings_mickey_s_adventures_in_numberland/Settings_normal_Number_5.cs\"\n",
    "\n",
    "Globals.loadData(romName, \"\", configName)"
   ]
  },
  {
   "cell_type": "code",
   "execution_count": null,
   "metadata": {
    "collapsed": true
   },
   "outputs": [],
   "source": [
    "video = Video()\n",
    "from IPython.display import display, Image\n",
    "picPath = \"D:/CadEditorPythonExamples/\""
   ]
  },
  {
   "cell_type": "code",
   "execution_count": null,
   "metadata": {
    "collapsed": false
   },
   "outputs": [],
   "source": [
    "#//make capcom screen image\n",
    "#Bitmap makeScreen(int scrNo, int levelNo, int videoNo, int bigBlockNo, int blockNo, int palleteNo, float scale = 2.0f, bool withBorders = true)\n",
    "for bc in xrange(256,32,-1):\n",
    "    ConfigScript.palBytesAddr = ConfigScript.getTilesAddr(0) + bc*16\n",
    "    #ConfigScript.palBytesAddr = ConfigScript.getTilesAddr(0) + bc\n",
    "    #ConfigScript.palBytesAddr = ConfigScript.getTilesAddr(0) + 83*16 + bc\n",
    "    scr = video.makeScreen(0, 0, 0x90, 0, 0, 0, 1.0, False)\n",
    "    fn = picPath+\"%03d.png\"%bc\n",
    "    scr.Save(fn)\n",
    "    print bc\n",
    "    display(Image(fn))"
   ]
  },
  {
   "cell_type": "code",
   "execution_count": null,
   "metadata": {
    "collapsed": true
   },
   "outputs": [],
   "source": []
  }
 ],
 "metadata": {
  "kernelspec": {
   "display_name": "Python 2",
   "language": "python",
   "name": "python2"
  },
  "language_info": {
   "codemirror_mode": {
    "name": "ipython",
    "version": 2
   },
   "file_extension": ".py",
   "mimetype": "text/x-python",
   "name": "python",
   "nbconvert_exporter": "python",
   "pygments_lexer": "ipython2",
   "version": "2.7.12"
  }
 },
 "nbformat": 4,
 "nbformat_minor": 0
}
