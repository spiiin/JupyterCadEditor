{
 "cells": [
  {
   "cell_type": "markdown",
   "metadata": {},
   "source": [
    "Скрипт для поиска одинаковых или похожих данных для редактора CadEditor. Используется для поиска смещения массивов данных в версиях ромов для разных регионов.\n",
    "\n",
    "Пример использования скрипта с ромов Tom & Jerry (and Tuffy), версии Japan и USA."
   ]
  },
  {
   "cell_type": "code",
   "execution_count": 1,
   "metadata": {
    "collapsed": false
   },
   "outputs": [],
   "source": [
    "#init python.net & load CadEditor\n",
    "import sys\n",
    "cadEditorDir = \"d:/DEV/MYGIT/CadEditor/\" #test at CadEditor v3.6\n",
    "sys.path.append(cadEditorDir)\n",
    "\n",
    "import os\n",
    "os.chdir(cadEditorDir)\n",
    "\n",
    "import clr\n",
    "clr.AddReference(\"CadEditor\")\n",
    "clr.AddReference(\"System\")\n",
    "clr.AddReference(\"System.Windows\")\n",
    "clr.AddReference(\"CSScriptLibrary.v3.5\")\n",
    "\n",
    "from CadEditor import Globals, ConfigScript, Utils, OffsetRec, MapViewType, MapEditor\n",
    "from CSScriptLibrary import AsmHelper, CSScript"
   ]
  },
  {
   "cell_type": "markdown",
   "metadata": {},
   "source": [
    "Загрузка и считывание данных из C#-скрипта"
   ]
  },
  {
   "cell_type": "code",
   "execution_count": 13,
   "metadata": {
    "collapsed": true
   },
   "outputs": [],
   "source": [
    "def readDictFromFile(fileName):\n",
    "    asm = AsmHelper(CSScript.Load(fileName))\n",
    "    data = asm.CreateObject(\"Data\", None);\n",
    "    ans = {}\n",
    "    ans[\"palOffset\"] = data.getPalOffset().beginAddr\n",
    "    ans[\"videoOffset\"] = data.getVideoOffset().beginAddr\n",
    "    ans[\"blocksOffset\"] = data.getBlocksOffset().beginAddr\n",
    "    ans[\"screensOffset\"] = data.getScreensOffset().beginAddr\n",
    "    ans[\"enemyAddr\"] = data.getLevelRecs()[0].objectsBeginAddr\n",
    "    ans[\"cheeseAddr\"] = data.getCheeseAddr()\n",
    "    return ans"
   ]
  },
  {
   "cell_type": "markdown",
   "metadata": {},
   "source": [
    "Тестовое считывание"
   ]
  },
  {
   "cell_type": "code",
   "execution_count": 14,
   "metadata": {
    "collapsed": false
   },
   "outputs": [
    {
     "data": {
      "text/plain": [
       "{'blocksOffset': 46069,\n",
       " 'cheeseAddr': 33060,\n",
       " 'enemyAddr': 33107,\n",
       " 'palOffset': 33018,\n",
       " 'screensOffset': 33967,\n",
       " 'videoOffset': 192528}"
      ]
     },
     "execution_count": 14,
     "metadata": {},
     "output_type": "execute_result"
    }
   ],
   "source": [
    "cfg = cadEditorDir + \"settings_tom_and_jerry/Settings_TomAndJerry-1.cs\"\n",
    "readDictFromFile(cfg)"
   ]
  },
  {
   "cell_type": "code",
   "execution_count": 15,
   "metadata": {
    "collapsed": true
   },
   "outputs": [],
   "source": [
    "romNameJ = cadEditorDir + \"Tom & Jerry (and Tuffy) (J).nes\"\n",
    "romNameU = cadEditorDir + \"Tom & Jerry (and Tuffy) (U) [!].nes\""
   ]
  },
  {
   "cell_type": "code",
   "execution_count": 25,
   "metadata": {
    "collapsed": true
   },
   "outputs": [],
   "source": [
    "class DataChecker:\n",
    "    def __init__(self, jdata, udata):\n",
    "        self.jdata = jdata\n",
    "        self.udata = udata\n",
    "        self.SIZE_TO_CHECK = 64\n",
    "    def findDataAtAddr(self, addr):\n",
    "        d = self.jdata[addr:addr+self.SIZE_TO_CHECK]\n",
    "        return self.udata.find(d)\n",
    "    def checkAndPrint(self, val, addr):\n",
    "        newAddr = self.findDataAtAddr(addr)\n",
    "        equal = addr == newAddr\n",
    "        print \"%16s\"%val, \"%6s\"%hex(addr), equal and \"==\" or \"!=\", \"%6s\"%hex(newAddr)"
   ]
  },
  {
   "cell_type": "code",
   "execution_count": 26,
   "metadata": {
    "collapsed": false
   },
   "outputs": [
    {
     "name": "stdout",
     "output_type": "stream",
     "text": [
      "LEVEL NO 1\n",
      "       enemyAddr 0x8153 == 0x8153\n",
      "   screensOffset 0x84af != 0x84b7\n",
      "    blocksOffset 0xb3f5 != 0xb3fd\n",
      "     videoOffset 0x2f010 == 0x2f010\n",
      "      cheeseAddr 0x8124 == 0x8124\n",
      "       palOffset 0x80fa == 0x80fa\n",
      "LEVEL NO 2\n",
      "       enemyAddr 0x8257 != 0x825b\n",
      "   screensOffset 0xa23c != 0xa244\n",
      "    blocksOffset 0xb8b5 != 0xb8bd\n",
      "     videoOffset 0x30010 == 0x30010\n",
      "      cheeseAddr 0x8232 != 0x8236\n",
      "       palOffset 0xa20f != 0xa217\n",
      "LEVEL NO 3\n",
      "       enemyAddr 0xc169 == 0xc169\n",
      "   screensOffset 0xc491 == 0xc491\n",
      "    blocksOffset 0xdcb0 == 0xdcb0\n",
      "     videoOffset 0x31010 == 0x31010\n",
      "      cheeseAddr 0xc144 == 0xc144\n",
      "       palOffset 0xc134 == 0xc134\n",
      "LEVEL NO 4\n",
      "       enemyAddr 0xc2a9 == 0xc2a9\n",
      "   screensOffset 0xe212 == 0xe212\n",
      "    blocksOffset 0xf462 == 0xf462\n",
      "     videoOffset 0x32010 == 0x32010\n",
      "      cheeseAddr 0xc286 == 0xc286\n",
      "       palOffset 0xc276 == 0xc276\n",
      "LEVEL NO 5\n",
      "       enemyAddr 0x10165 == 0x10165\n",
      "   screensOffset 0x1045c == 0x1045c\n",
      "    blocksOffset 0x118ec == 0x118ec\n",
      "     videoOffset 0x34010 == 0x34010\n",
      "      cheeseAddr 0x10144 == 0x10144\n",
      "       palOffset 0x10134 == 0x10134\n",
      "LEVEL NO 6\n",
      "       enemyAddr 0x102b3 == 0x102b3\n",
      "   screensOffset 0x11c2c == 0x11c2c\n",
      "    blocksOffset 0x12dac == 0x12dac\n",
      "     videoOffset 0x35010 == 0x35010\n",
      "      cheeseAddr 0x1028a == 0x1028a\n",
      "       palOffset 0x1027a == 0x1027a\n",
      "LEVEL NO 7\n",
      "       enemyAddr 0x1478a == 0x1478a\n",
      "   screensOffset 0x14c75 == 0x14c75\n",
      "    blocksOffset 0x15c65 == 0x15c65\n",
      "     videoOffset 0x39810 == 0x39810\n",
      "      cheeseAddr 0x14763 == 0x14763\n",
      "       palOffset 0x14753 == 0x14753\n",
      "LEVEL NO 8\n",
      "       enemyAddr 0x14874 == 0x14874\n",
      "   screensOffset 0x1615b == 0x1615b\n",
      "    blocksOffset 0x16ddb == 0x16ddb\n",
      "     videoOffset 0x3a810 == 0x3a810\n",
      "      cheeseAddr 0x1484f == 0x1484f\n",
      "       palOffset 0x1483f == 0x1483f\n",
      "LEVEL NO 9\n",
      "       enemyAddr 0x1812d == 0x1812d\n",
      "   screensOffset 0x18530 != 0x18550\n",
      "    blocksOffset 0x19cfa != 0x19d1a\n",
      "     videoOffset 0x3c00f != 0x3b00f\n",
      "      cheeseAddr 0x1810a == 0x1810a\n",
      "       palOffset 0x149af == 0x149af\n",
      "LEVEL NO 10\n",
      "       enemyAddr 0x18226 == 0x18226\n",
      "   screensOffset 0x1a23e != 0x1a25e\n",
      "    blocksOffset 0x1b26b != 0x1b28b\n",
      "     videoOffset 0x3d00f == 0x3d00f\n",
      "      cheeseAddr 0x181fd == 0x181fd\n",
      "       palOffset 0x181ed == 0x181ed\n"
     ]
    }
   ],
   "source": [
    "configNameTempl = cadEditorDir + \"settings_tom_and_jerry/Settings_TomAndJerry-%d.cs\"\n",
    "\n",
    "with open(romNameJ, \"rb\")as f:\n",
    "    jdata = f.read()\n",
    "with open(romNameU, \"rb\")as f:\n",
    "    udata = f.read()\n",
    "checker = DataChecker(jdata, udata)\n",
    "\n",
    "for i in xrange(10):\n",
    "    levelNo = i + 1\n",
    "    print \"LEVEL NO\", levelNo\n",
    "    configName = configNameTempl % levelNo\n",
    "    dd = readDictFromFile(configName)\n",
    "    for k,v in dd.iteritems():\n",
    "        checker.checkAndPrint(k,v)"
   ]
  }
 ],
 "metadata": {
  "kernelspec": {
   "display_name": "Python 2",
   "language": "python",
   "name": "python2"
  },
  "language_info": {
   "codemirror_mode": {
    "name": "ipython",
    "version": 2
   },
   "file_extension": ".py",
   "mimetype": "text/x-python",
   "name": "python",
   "nbconvert_exporter": "python",
   "pygments_lexer": "ipython2",
   "version": "2.7.12"
  }
 },
 "nbformat": 4,
 "nbformat_minor": 0
}
