{
 "cells": [
  {
   "cell_type": "markdown",
   "metadata": {},
   "source": [
    "Скрипт для нахождения всех конфигов игр, в которых используются блоки из 16 тайлов и 1 байта аттрибутов.\n",
    "После нахождения загружает все найденные конфиги и отрисовывает 1-й блок из него для каждой игры. Используется для проверки игр, в которых первый блок - пустой, состоящий из 16 нулей."
   ]
  },
  {
   "cell_type": "code",
   "execution_count": null,
   "metadata": {
    "collapsed": true
   },
   "outputs": [],
   "source": [
    "import cadEditorPath\n",
    "from cadEditorPath import cadEditorDir\n",
    "import clr\n",
    "clr.AddReference(\"CadEditor\")\n",
    "clr.AddReference(\"PluginVideoNes\")\n",
    "import System\n",
    "from CadEditor import Globals, ConfigScript, MapViewType\n",
    "from PluginVideoNes import Video\n",
    "from IPython.display import display, Image\n",
    "import os"
   ]
  },
  {
   "cell_type": "code",
   "execution_count": null,
   "metadata": {
    "collapsed": true
   },
   "outputs": [],
   "source": [
    "def applyToAllFilesInFolder(folder, fileexts, func, *params):\n",
    "  \"\"\"apply function with params func to all files with extenstions from list fileext in folder\n",
    "     example:\n",
    "       applyToAllFilesInFolder (\"C:\", [\".txt\"], lambda filename:None)\n",
    "  \"\"\"\n",
    "  def visit(dirname, names):\n",
    "    for name in names:\n",
    "      shortName, ext = os.path.splitext(name)\n",
    "      if ext.lower() in fileexts:\n",
    "        func(os.path.join(dirname, name), *params)\n",
    "  for dirname, _, names in os.walk(folder):\n",
    "    visit(dirname, names)"
   ]
  },
  {
   "cell_type": "code",
   "execution_count": null,
   "metadata": {
    "collapsed": true
   },
   "outputs": [],
   "source": [
    "def isConfig(fname):\n",
    "    dn,fn = os.path.split(fname)\n",
    "    return fn.lower().startswith(\"settings_\")\n",
    "\n",
    "def checkStr(fname, checkStr):\n",
    "    \"check if any line of fname contains checkStr\"\n",
    "    with open(fname, \"rt\") as f:\n",
    "        ll = f.readlines()\n",
    "    return any([l.find(checkStr)!=-1 for l in ll])\n",
    "\n",
    "def checkFile(fname, configs):\n",
    "    if isConfig(fname) and checkStr(fname, \"Utils.getBlocksFromTiles16Pal1\"):\n",
    "        configs.append(fname)\n",
    "        "
   ]
  },
  {
   "cell_type": "code",
   "execution_count": null,
   "metadata": {},
   "outputs": [],
   "source": [
    "#print all config names, that contains \n",
    "configs = []\n",
    "applyToAllFilesInFolder(cadEditorDir, [\".cs\"], checkFile, configs)\n",
    "print(\"Found\", len(configs), \"configs\")\n",
    "for c in configs:\n",
    "    print(c)"
   ]
  },
  {
   "cell_type": "code",
   "execution_count": null,
   "metadata": {
    "collapsed": true
   },
   "outputs": [],
   "source": [
    "pairs = [\n",
    "    [\"settings_adventure_island_2/Settings_AdventureIsland2-1.cs\", \"Hudson's Adventure Island II (U) [!].nes\"],\n",
    "    [\"settings_adventure_island_3/Settings_AdventureIsland3-1.cs\", \"Hudson's Adventure Island III (U) [!].nes\"],\n",
    "    [\"settings_alien_3/Settings_Alien3-1.cs\", \"Alien 3 (E) [!].nes\"],\n",
    "    [\"settings_alien_3/Settings_Alien3-2.cs\", \"Alien 3 (E) [!].nes\"],\n",
    "    [\"settings_batman_returns/Settings_BatmanReturns-1.cs\",\"Batman III [p1].nes\"],\n",
    "    [\"settings_battletoads/Settings_Battletoads-1.cs\",\"Battletoads (U) [!].nes\"],\n",
    "    [\"settings_battletoads/Settings_Battletoads-10.cs\",\"Battletoads (U) [!].nes\"],\n",
    "    [\"settings_battletoads/Settings_Battletoads-11.cs\",\"Battletoads (U) [!].nes\"],\n",
    "    [\"settings_battletoads/Settings_Battletoads-12.cs\",\"Battletoads (U) [!].nes\"],\n",
    "    [\"settings_battletoads/Settings_Battletoads-2.cs\",\"Battletoads (U) [!].nes\"],\n",
    "    [\"settings_battletoads/Settings_Battletoads-3.cs\",\"Battletoads (U) [!].nes\"],\n",
    "    [\"settings_battletoads/Settings_Battletoads-4.cs\",\"Battletoads (U) [!].nes\"],\n",
    "    [\"settings_battletoads/Settings_Battletoads-5.cs\",\"Battletoads (U) [!].nes\"],\n",
    "    #[\"settings_battletoads/Settings_Battletoads-6.cs\",\"Battletoads (U) [!].nes\"],\n",
    "    [\"settings_battletoads/Settings_Battletoads-7.cs\",\"Battletoads (U) [!].nes\"],\n",
    "    [\"settings_battletoads/Settings_Battletoads-8.cs\",\"Battletoads (U) [!].nes\"],\n",
    "    [\"settings_battletoads/Settings_Battletoads-9.cs\",\"Battletoads (U) [!].nes\"],\n",
    "    [\"settings_battletoads_and_double_dragon/Settings_BattletoadsDoubleDragon-1.cs\",\"Battletoads & Double Dragon - The Ultimate Team (U) [p1][!].nes\"],\n",
    "    [\"settings_battletoads_and_double_dragon/Settings_BattletoadsDoubleDragon-2.cs\",\"Battletoads & Double Dragon - The Ultimate Team (U) [p1][!].nes\"],\n",
    "    [\"settings_battletoads_and_double_dragon/Settings_BattletoadsDoubleDragon-3.cs\",\"Battletoads & Double Dragon - The Ultimate Team (U) [p1][!].nes\"],\n",
    "    [\"settings_battletoads_and_double_dragon/Settings_BattletoadsDoubleDragon-5-2.cs\",\"Battletoads & Double Dragon - The Ultimate Team (U) [p1][!].nes\"],\n",
    "    [\"settings_battletoads_and_double_dragon/Settings_BattletoadsDoubleDragon-5.cs\",\"Battletoads & Double Dragon - The Ultimate Team (U) [p1][!].nes\"],\n",
    "    [\"settings_battletoads_and_double_dragon/Settings_BattletoadsDoubleDragon-6.cs\",\"Battletoads & Double Dragon - The Ultimate Team (U) [p1][!].nes\"],\n",
    "    [\"settings_battletoads_and_double_dragon/Settings_BattletoadsDoubleDragon-7.cs\",\"Battletoads & Double Dragon - The Ultimate Team (U) [p1][!].nes\"],\n",
    "    [\"settings_bucky_ohare/Settings_Bucky-1-1.cs\",\"Bucky O'Hare (E).nes\"],\n",
    "    [\"settings_contra_force/Settings_ContraForce-1.cs\",\"Contra Force (U) [!].nes\"],\n",
    "    [\"settings_contra_force/Settings_ContraForce-3.cs\",\"Contra Force (U) [!].nes\"],\n",
    "    [\"settings_contra_force/Settings_ContraForce-4.cs\",\"Contra Force (U) [!].nes\"],\n",
    "    [\"settings_contra_force/Settings_ContraForce-5.cs\",\"Contra Force (U) [!].nes\"],\n",
    "    [\"settings_darkman/Settings_Darkman-1.cs\",\"Darkman (U) [!].nes\"],\n",
    "    [\"settings_jackie_chan/Settings_JackieChan-1-1.cs\",\"Jackie Chan's Action Kung Fu (U) [!p].nes\"],\n",
    "    [\"settings_jackie_chan/Settings_JackieChan-1-2.cs\",\"Jackie Chan's Action Kung Fu (U) [!p].nes\"],\n",
    "    [\"settings_jackie_chan/Settings_JackieChan-1-3.cs\",\"Jackie Chan's Action Kung Fu (U) [!p].nes\"],\n",
    "    [\"settings_jackie_chan/Settings_JackieChan-1-4.cs\",\"Jackie Chan's Action Kung Fu (U) [!p].nes\"],\n",
    "    [\"settings_jackie_chan/Settings_JackieChan-1-5.cs\",\"Jackie Chan's Action Kung Fu (U) [!p].nes\"],\n",
    "    [\"settings_jackie_chan/Settings_JackieChan-1-6.cs\",\"Jackie Chan's Action Kung Fu (U) [!p].nes\"],\n",
    "    [\"settings_jackie_chan/Settings_JackieChan-1-7.cs\",\"Jackie Chan's Action Kung Fu (U) [!p].nes\"],\n",
    "    [\"settings_mickey_s_adventures_in_numberland/Settings_normal_Number_1.cs\",\"Mickey's Adventures in Numberland (U) [!p].nes\"],\n",
    "    [\"settings_mickey_s_adventures_in_numberland/Settings_normal_Number_10.cs\",\"Mickey's Adventures in Numberland (U) [!p].nes\"],\n",
    "    [\"settings_mickey_s_adventures_in_numberland/Settings_normal_Number_2.cs\",\"Mickey's Adventures in Numberland (U) [!p].nes\"],\n",
    "    [\"settings_mickey_s_adventures_in_numberland/Settings_normal_Number_3.cs\",\"Mickey's Adventures in Numberland (U) [!p].nes\"],\n",
    "    [\"settings_mickey_s_adventures_in_numberland/Settings_normal_Number_4.cs\",\"Mickey's Adventures in Numberland (U) [!p].nes\"],\n",
    "    [\"settings_mickey_s_adventures_in_numberland/Settings_normal_Number_5.cs\",\"Mickey's Adventures in Numberland (U) [!p].nes\"],\n",
    "    [\"settings_mickey_s_adventures_in_numberland/Settings_normal_Number_6.cs\",\"Mickey's Adventures in Numberland (U) [!p].nes\"],\n",
    "    [\"settings_mickey_s_adventures_in_numberland/Settings_normal_Number_7.cs\",\"Mickey's Adventures in Numberland (U) [!p].nes\"],\n",
    "    [\"settings_mickey_s_adventures_in_numberland/Settings_normal_Number_8.cs\",\"Mickey's Adventures in Numberland (U) [!p].nes\"],\n",
    "    [\"settings_mickey_s_adventures_in_numberland/Settings_normal_Number_9.cs\",\"Mickey's Adventures in Numberland (U) [!p].nes\"],\n",
    "    [\"settings_mickey_s_adventures_in_numberland/Settings_super_advanced_Number_1.cs\",\"Mickey's Adventures in Numberland (U) [!p].nes\"],\n",
    "    [\"settings_mickey_s_adventures_in_numberland/Settings_super_advanced_Number_10.cs\",\"Mickey's Adventures in Numberland (U) [!p].nes\"],\n",
    "    [\"settings_mickey_s_adventures_in_numberland/Settings_super_advanced_Number_2.cs\",\"Mickey's Adventures in Numberland (U) [!p].nes\"],\n",
    "    [\"settings_mickey_s_adventures_in_numberland/Settings_super_advanced_Number_3.cs\",\"Mickey's Adventures in Numberland (U) [!p].nes\"],\n",
    "    [\"settings_mickey_s_adventures_in_numberland/Settings_super_advanced_Number_4.cs\",\"Mickey's Adventures in Numberland (U) [!p].nes\"],\n",
    "    [\"settings_mickey_s_adventures_in_numberland/Settings_super_advanced_Number_5.cs\",\"Mickey's Adventures in Numberland (U) [!p].nes\"],\n",
    "    [\"settings_mickey_s_adventures_in_numberland/Settings_super_advanced_Number_6.cs\",\"Mickey's Adventures in Numberland (U) [!p].nes\"],\n",
    "    [\"settings_mickey_s_adventures_in_numberland/Settings_super_advanced_Number_7.cs\",\"Mickey's Adventures in Numberland (U) [!p].nes\"],\n",
    "    [\"settings_mickey_s_adventures_in_numberland/Settings_super_advanced_Number_8.cs\",\"Mickey's Adventures in Numberland (U) [!p].nes\"],\n",
    "    [\"settings_mickey_s_adventures_in_numberland/Settings_super_advanced_Number_9.cs\",\"Mickey's Adventures in Numberland (U) [!p].nes\"],\n",
    "    [\"settings_monster_in_my_pocket/Settings_MonsterInMyPocket-1-2.cs\",\"Monster In My Pocket (U) [!].nes\"],\n",
    "    [\"settings_monster_in_my_pocket/Settings_MonsterInMyPocket-1.cs\",\"Monster In My Pocket (U) [!].nes\"],\n",
    "    [\"settings_power_blade/Settings_PowerBlade-1.cs\",\"Power Blade (E) [!].nes\"],\n",
    "    [\"settings_power_blade_2/Settings_PowerBlade2-1.cs\",\"Power Blade 2 (U) [!].nes\"],\n",
    "    [\"settings_super_c/Settings_SuperC-1.cs\",\"Super C (U) [!].nes\"],\n",
    "    [\"settings_tmnt/Settings_Tmnt-1.cs\",\"Teenage Mutant Ninja Turtles (U) [!].nes\"],\n",
    "    [\"settings_tmnt2/Settings_Tmnt2-1.cs\",\"Teenage Mutant Ninja Turtles II - The Arcade Game (U) [!].nes\"],\n",
    "    [\"settings_tmnt2/Settings_Tmnt2-10.cs\",\"Teenage Mutant Ninja Turtles II - The Arcade Game (U) [!].nes\"],\n",
    "    [\"settings_tmnt2/Settings_Tmnt2-2.cs\",\"Teenage Mutant Ninja Turtles II - The Arcade Game (U) [!].nes\"],\n",
    "    [\"settings_tmnt2/Settings_Tmnt2-3.cs\",\"Teenage Mutant Ninja Turtles II - The Arcade Game (U) [!].nes\"],\n",
    "    [\"settings_tmnt2/Settings_Tmnt2-4.cs\",\"Teenage Mutant Ninja Turtles II - The Arcade Game (U) [!].nes\"],\n",
    "    [\"settings_tmnt2/Settings_Tmnt2-5.cs\",\"Teenage Mutant Ninja Turtles II - The Arcade Game (U) [!].nes\"],\n",
    "    [\"settings_tmnt2/Settings_Tmnt2-6.cs\",\"Teenage Mutant Ninja Turtles II - The Arcade Game (U) [!].nes\"],\n",
    "    [\"settings_tmnt2/Settings_Tmnt2-7.cs\",\"Teenage Mutant Ninja Turtles II - The Arcade Game (U) [!].nes\"],\n",
    "    [\"settings_tmnt2/Settings_Tmnt2-8.cs\",\"Teenage Mutant Ninja Turtles II - The Arcade Game (U) [!].nes\"],\n",
    "    [\"settings_tmnt2/Settings_Tmnt2-9.cs\",\"Teenage Mutant Ninja Turtles II - The Arcade Game (U) [!].nes\"],\n",
    "    [\"settings_tmnt3/Settings_Tmnt3-1.cs\",\"Teenage Mutant Ninja Turtles III - The Manhattan Project (U) [!].nes\"],\n",
    "    [\"settings_tmnt3/Settings_Tmnt3-2.cs\",\"Teenage Mutant Ninja Turtles III - The Manhattan Project (U) [!].nes\"],\n",
    "    [\"settings_tmnt3/Settings_Tmnt3-3.cs\",\"Teenage Mutant Ninja Turtles III - The Manhattan Project (U) [!].nes\"],\n",
    "    [\"settings_tmnt3/Settings_Tmnt3-4-2.cs\",\"Teenage Mutant Ninja Turtles III - The Manhattan Project (U) [!].nes\"],\n",
    "    [\"settings_tmnt3/Settings_Tmnt3-4.cs\",\"Teenage Mutant Ninja Turtles III - The Manhattan Project (U) [!].nes\"],\n",
    "    [\"settings_tmnt3/Settings_Tmnt3-5.cs\",\"Teenage Mutant Ninja Turtles III - The Manhattan Project (U) [!].nes\"],\n",
    "    [\"settings_tmnt3/Settings_Tmnt3-6.cs\",\"Teenage Mutant Ninja Turtles III - The Manhattan Project (U) [!].nes\"],\n",
    "    [\"settings_tmnt3/Settings_Tmnt3-8-2.cs\",\"Teenage Mutant Ninja Turtles III - The Manhattan Project (U) [!].nes\"],\n",
    "    [\"settings_tmnt3/Settings_Tmnt3-8-3.cs\",\"Teenage Mutant Ninja Turtles III - The Manhattan Project (U) [!].nes\"],\n",
    "    [\"settings_tmnt3/Settings_Tmnt3-8.cs\",\"Teenage Mutant Ninja Turtles III - The Manhattan Project (U) [!].nes\"],\n",
    "    [\"settings_yonoid/Settings_YoNoid-1.cs\",\"Teenage Mutant Ninja Turtles III - The Manhattan Project (U) [!].nes\"],\n",
    "]"
   ]
  },
  {
   "cell_type": "code",
   "execution_count": null,
   "metadata": {
    "collapsed": true
   },
   "outputs": [],
   "source": [
    "#draw first block of config\n",
    "video = Video()\n",
    "makeObjects = video.makeObjects.Overloads[System.Int32, System.Int32, System.Int32, MapViewType, System.Int32]\n",
    "for cn, rn in pairs:\n",
    "    rn = os.path.join(cadEditorDir, rn)\n",
    "    cn = os.path.join(cadEditorDir, cn)\n",
    "    Globals.loadData(rn, \"\", cn)\n",
    "    bb = makeObjects(0, 0, 0, MapViewType.Tiles, -1)\n",
    "    fn = picPath+\"objects0.png\"\n",
    "    print(os.path.split(cn)[1])\n",
    "    bb[0].Save(fn)\n",
    "    display(Image(fn))"
   ]
  },
  {
   "cell_type": "code",
   "execution_count": null,
   "metadata": {
    "collapsed": true
   },
   "outputs": [],
   "source": []
  }
 ],
 "metadata": {
  "kernelspec": {
   "display_name": "Python 3",
   "language": "python",
   "name": "python3"
  },
  "language_info": {
   "codemirror_mode": {
    "name": "ipython",
    "version": 3
   },
   "file_extension": ".py",
   "mimetype": "text/x-python",
   "name": "python",
   "nbconvert_exporter": "python",
   "pygments_lexer": "ipython3",
   "version": "3.6.1"
  }
 },
 "nbformat": 4,
 "nbformat_minor": 1
}
