{
 "cells": [
  {
   "cell_type": "markdown",
   "metadata": {},
   "source": [
    "Скрипт для поиска одинаковых или похожих данных для редактора CadEditor.\n",
    "Используется для поиска смещения массивов данных в версиях ромов для разных регионов.\n",
    "\n",
    "Пример использования скрипта с Flinstones - The Rescue of Dino & Hoppy."
   ]
  },
  {
   "cell_type": "code",
   "execution_count": 1,
   "metadata": {},
   "outputs": [],
   "source": [
    "#init python.net & load CadEditor\n",
    "import sys\n",
    "cadEditorDir = \"d:/DEV/MYGIT/CadEditor/\" #test at CadEditor v3.5\n",
    "sys.path.append(cadEditorDir)\n",
    "import clr\n",
    "clr.AddReference(\"CadEditor\")\n",
    "clr.AddReference(\"System\")\n",
    "clr.AddReference(\"System.Windows\")\n",
    "from CadEditor import Globals, ConfigScript, Utils, OffsetRec, MapViewType, MapEditor\n",
    "from array import array"
   ]
  },
  {
   "cell_type": "markdown",
   "metadata": {},
   "source": [
    "Имена файлов для дампов региональных образов игры (согласно GoodNES v3.1)"
   ]
  },
  {
   "cell_type": "code",
   "execution_count": 2,
   "metadata": {
    "collapsed": true
   },
   "outputs": [],
   "source": [
    "romNameU    = cadEditorDir + \"Flintstones, The - The Rescue of Dino & Hoppy (U) [!].nes\"\n",
    "romNameE    = cadEditorDir + \"Flintstones, The - The Rescue of Dino & Hoppy (E) [!p].nes\"\n",
    "romNameJ    = cadEditorDir + \"Flintstones, The - The Rescue of Dino & Hoppy (J).nes\"\n",
    "romNames = [romNameE, romNameU, romNameJ]"
   ]
  },
  {
   "cell_type": "markdown",
   "metadata": {},
   "source": [
    "Загрузка данных о смещениях уже готовых конфигов игры (изначально писались для европейской версии игры)"
   ]
  },
  {
   "cell_type": "code",
   "execution_count": 5,
   "metadata": {},
   "outputs": [
    {
     "name": "stdout",
     "output_type": "stream",
     "text": [
      "CadEditor.BigBlock[]\n",
      "CadEditor.BigBlock[]\n",
      "CadEditor.BigBlock[]\n",
      "Level 1\n",
      "E/U screens: Correct\n",
      "E/J screens: Correct\n",
      "U/J screens: Correct\n",
      "E/U enemies: Incorrect\n",
      "E/J enemies: Incorrect\n",
      "U/J enemies: Incorrect\n",
      "------------------------------------------------------------\n",
      "CadEditor.BigBlock[]\n",
      "CadEditor.BigBlock[]\n",
      "CadEditor.BigBlock[]\n",
      "Level 2\n",
      "E/U screens: Correct\n",
      "E/J screens: Correct\n",
      "U/J screens: Correct\n",
      "E/U enemies: Incorrect\n",
      "E/J enemies: Incorrect\n",
      "U/J enemies: Incorrect\n",
      "------------------------------------------------------------\n",
      "CadEditor.BigBlock[]\n",
      "CadEditor.BigBlock[]\n",
      "CadEditor.BigBlock[]\n",
      "Level 3\n",
      "E/U screens: Incorrect\n",
      "E/J screens: Incorrect\n",
      "U/J screens: Incorrect\n",
      "E/U enemies: Incorrect\n",
      "E/J enemies: Incorrect\n",
      "U/J enemies: Incorrect\n",
      "------------------------------------------------------------\n",
      "CadEditor.BigBlock[]\n",
      "CadEditor.BigBlock[]\n",
      "CadEditor.BigBlock[]\n",
      "Level 4\n",
      "E/U screens: Correct\n",
      "E/J screens: Correct\n",
      "U/J screens: Correct\n",
      "E/U enemies: Incorrect\n",
      "E/J enemies: Incorrect\n",
      "U/J enemies: Incorrect\n",
      "------------------------------------------------------------\n",
      "CadEditor.BigBlock[]\n",
      "CadEditor.BigBlock[]\n",
      "CadEditor.BigBlock[]\n",
      "Level 5\n",
      "E/U screens: Correct\n",
      "E/J screens: Correct\n",
      "U/J screens: Correct\n",
      "E/U enemies: Incorrect\n",
      "E/J enemies: Incorrect\n",
      "U/J enemies: Incorrect\n",
      "------------------------------------------------------------\n",
      "CadEditor.BigBlock[]\n",
      "CadEditor.BigBlock[]\n",
      "CadEditor.BigBlock[]\n",
      "Level 6\n",
      "E/U screens: Correct\n",
      "E/J screens: Correct\n",
      "U/J screens: Correct\n",
      "E/U enemies: Incorrect\n",
      "E/J enemies: Incorrect\n",
      "U/J enemies: Incorrect\n",
      "------------------------------------------------------------\n",
      "CadEditor.BigBlock[]\n",
      "CadEditor.BigBlock[]\n",
      "CadEditor.BigBlock[]\n",
      "Level 7\n",
      "E/U screens: Correct\n",
      "E/J screens: Correct\n",
      "U/J screens: Correct\n",
      "E/U enemies: Incorrect\n",
      "E/J enemies: Incorrect\n",
      "U/J enemies: Incorrect\n",
      "------------------------------------------------------------\n"
     ]
    }
   ],
   "source": [
    "for i in xrange(7):\n",
    "    levelNo = i+1\n",
    "    configName = cadEditorDir + \"settings_flintstones_rescue_of_dino_and_hoppy/Settings_Flintstones-%d.cs\"%levelNo\n",
    "    scrDatas = []\n",
    "    enemyDatas = []\n",
    "    mbDatas = []\n",
    "    for romName in romNames:\n",
    "        Globals.loadData(romName, \"\", configName) #reload Globals & ConfigScript for current level\n",
    "        scrData = Globals.getScreen(ConfigScript.screensOffset[0], 0)\n",
    "        a = array(\"i\", scrData)\n",
    "        scrDatas.append(a)\n",
    "        #\n",
    "        enemyDatas.append(ConfigScript.getObjects(0))\n",
    "        #\n",
    "        print ConfigScript.getBigBlocks(0)\n",
    "        mbDatas.append(ConfigScript.getBigBlocks(0))\n",
    "    print \"Level\", levelNo\n",
    "    correctStringEU = scrDatas[0] == scrDatas[1] and \"Correct\" or \"Incorrect\"\n",
    "    correctStringEJ = scrDatas[0] == scrDatas[2] and \"Correct\" or \"Incorrect\"\n",
    "    correctStringUJ = scrDatas[1] == scrDatas[2] and \"Correct\" or \"Incorrect\"\n",
    "    print \"E/U screens: %s\"%correctStringEU\n",
    "    print \"E/J screens: %s\"%correctStringEJ\n",
    "    print \"U/J screens: %s\"%correctStringUJ\n",
    "    correctStringEU = enemyDatas[0].Equals(enemyDatas[1]) and \"Correct\" or \"Incorrect\"\n",
    "    correctStringEJ = enemyDatas[0].Equals(enemyDatas[2]) and \"Correct\" or \"Incorrect\"\n",
    "    correctStringUJ = enemyDatas[1].Equals(enemyDatas[2]) and \"Correct\" or \"Incorrect\"\n",
    "    print \"E/U enemies: %s\"%correctStringEU\n",
    "    print \"E/J enemies: %s\"%correctStringEJ\n",
    "    print \"U/J enemies: %s\"%correctStringUJ\n",
    "    #correctStringEU = Utils.seqEquals(mbDatas[0], mbDatas[1]) and \"Correct\" or \"Incorrect\"\n",
    "    #correctStringEJ = Utils.seqEquals(mbDatas[0], mbDatas[2]) and \"Correct\" or \"Incorrect\"\n",
    "    #correctStringUJ = Utils.seqEquals(mbDatas[1], mbDatas[2]) and \"Correct\" or \"Incorrect\"\n",
    "    #print \"E/U mblocks: %s\"%correctStringEU\n",
    "    #print \"E/J mblocks: %s\"%correctStringEJ\n",
    "    #print \"U/J mblocks: %s\"%correctStringUJ\n",
    "    print \"-\"*60"
   ]
  },
  {
   "cell_type": "code",
   "execution_count": null,
   "metadata": {
    "collapsed": true
   },
   "outputs": [],
   "source": []
  }
 ],
 "metadata": {
  "kernelspec": {
   "display_name": "Python 3",
   "language": "python",
   "name": "python3"
  },
  "language_info": {
   "codemirror_mode": {
    "name": "ipython",
    "version": 3
   },
   "file_extension": ".py",
   "mimetype": "text/x-python",
   "name": "python",
   "nbconvert_exporter": "python",
   "pygments_lexer": "ipython3",
   "version": "3.6.1"
  }
 },
 "nbformat": 4,
 "nbformat_minor": 1
}
