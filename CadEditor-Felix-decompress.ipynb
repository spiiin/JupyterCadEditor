{
 "cells": [
  {
   "cell_type": "markdown",
   "metadata": {},
   "source": [
    "Скрипт для компрессии и декомпрессии данных в игре Felix The Cat [NES]\n",
    "--"
   ]
  },
  {
   "cell_type": "markdown",
   "metadata": {},
   "source": [
    "Декомпрессия\n",
    "---"
   ]
  },
  {
   "cell_type": "markdown",
   "metadata": {},
   "source": [
    "Считывание данных из ROM, для удобства конвертируем их из символов в числа"
   ]
  },
  {
   "cell_type": "code",
   "execution_count": 1,
   "metadata": {
    "collapsed": true
   },
   "outputs": [],
   "source": [
    "from cadEditorPath import cadEditorDir\n",
    "import os\n",
    "\n",
    "romName = os.path.join(cadEditorDir, \"Felix the Cat (U) [!].nes\")\n",
    "with open(romName, \"rb\") as f:\n",
    "    d = f.read()\n",
    "d = map(ord, d)\n",
    "rom = d[:]"
   ]
  },
  {
   "cell_type": "markdown",
   "metadata": {
    "collapsed": false
   },
   "source": [
    "Вспомогательные функции"
   ]
  },
  {
   "cell_type": "code",
   "execution_count": 2,
   "metadata": {
    "collapsed": false
   },
   "outputs": [],
   "source": [
    "def readWord(d, addr):\n",
    "    return d[addr+1]<<8 | d[addr]\n",
    "\n",
    "def wordToBytes(word):\n",
    "    return word&0xFF, word>>8\n",
    "\n",
    "\n",
    "#прибавление адресов банков\n",
    "def addBankOffset(addr, levelNo):\n",
    "    offsets = [0x10010, 0xC010, 0x8010, 0x10, 0x4010, 0x8010, 0x4010, 0xc010, 0x10]\n",
    "    return addr + offsets[levelNo]\n",
    "\n",
    "#прибавление адресов банков\n",
    "def addPtrToLinesPtr(addr, levelNo):\n",
    "    return addBankOffset(addr, levelNo)\n",
    "\n",
    "def addPtrToCompress(addr, levelNo):\n",
    "    return addBankOffset(addr, levelNo)\n",
    "\n",
    "#маскирование ненужных бит из адреса линий, которые кодируют информацию о списке объектов\n",
    "def removeObjBits(addr):\n",
    "    if addr < 0x8000:\n",
    "        addr += 0x8000\n",
    "    if addr > 0xC000:\n",
    "        addr -= 0x4000\n",
    "    return addr\n",
    "    \n",
    "#расчёт адресов линий\n",
    "def addPtrToLines(addr, levelNo):\n",
    "    addr = removeObjBits(addr)\n",
    "    return addBankOffset(addr, levelNo)"
   ]
  },
  {
   "cell_type": "markdown",
   "metadata": {},
   "source": [
    "Чтение поинтеров на массив адресов линий и словарь для распаковки из ROM"
   ]
  },
  {
   "cell_type": "code",
   "execution_count": 3,
   "metadata": {
    "collapsed": false,
    "scrolled": true
   },
   "outputs": [
    {
     "name": "stdout",
     "output_type": "stream",
     "text": [
      "Lines array addr   : 0xb5f9\n",
      "Compress dict addr : 0xb50b\n"
     ]
    }
   ],
   "source": [
    "LEVEL_NO = 8\n",
    "\n",
    "baseAddrs = [0x280, 0x2e0, 0x340, 0x3A0, 0x400, 0x460, 0x4A0, 0x4e0, 0x500]\n",
    "baseAddr = baseAddrs[LEVEL_NO]\n",
    "linesPtrsAddr = addPtrToLinesPtr(readWord(d,baseAddr-2), LEVEL_NO)\n",
    "compressAddr = addPtrToCompress (readWord(d,baseAddr)  , LEVEL_NO)\n",
    "    \n",
    "print \"Lines array addr   :\", hex(linesPtrsAddr)\n",
    "print \"Compress dict addr :\", hex(compressAddr)"
   ]
  },
  {
   "cell_type": "markdown",
   "metadata": {},
   "source": [
    "Чтение RLE-словаря для распаковки"
   ]
  },
  {
   "cell_type": "code",
   "execution_count": 4,
   "metadata": {
    "collapsed": false
   },
   "outputs": [],
   "source": [
    "def readCompress(d, addr):\n",
    "    ans = []\n",
    "    for c in xrange(128):\n",
    "        ans.append((d[addr], d[addr+1]))\n",
    "        addr += 2\n",
    "    return ans"
   ]
  },
  {
   "cell_type": "code",
   "execution_count": 5,
   "metadata": {
    "collapsed": false
   },
   "outputs": [
    {
     "name": "stdout",
     "output_type": "stream",
     "text": [
      "Compressed Array: [(24, 0), (16, 0), (15, 0), (12, 0), (2, 0), (3, 0), (13, 0), (17, 0), (18, 0), (14, 0), (11, 0), (5, 0), (4, 0), (2, 73), (19, 0), (2, 75), (2, 66), (10, 0), (2, 4), (6, 0), (3, 73), (2, 67), (2, 115), (15, 3), (4, 3), (19, 1), (20, 1), (2, 74), (3, 115), (8, 0), (9, 0), (3, 1), (4, 1), (5, 50), (2, 54), (2, 50), (7, 54), (14, 50), (5, 22), (2, 15), (14, 1), (6, 26), (10, 54), (15, 50), (4, 54), (6, 50), (9, 50), (3, 54), (18, 50), (13, 50), (11, 50), (5, 26), (7, 50), (8, 50), (10, 50), (12, 50), (4, 50), (3, 26), (8, 54), (3, 50), (12, 1), (14, 22), (5, 15), (14, 26), (5, 54), (13, 22), (4, 15), (13, 26), (5, 115), (11, 22), (9, 26), (6, 15), (15, 26), (13, 62), (13, 33), (3, 33), (5, 46), (2, 33), (5, 47), (11, 33), (2, 23), (18, 1), (2, 1), (176, 173), (176, 172), (172, 175), (173, 175), (167, 170), (175, 165), (36, 38), (40, 177), (165, 173), (177, 177), (171, 174), (171, 179), (176, 173), (177, 176), (173, 174), (172, 174), (175, 172), (170, 170), (172, 173), (177, 173), (176, 173), (171, 171), (179, 174), (173, 177), (177, 212), (205, 210), (204, 212), (197, 211), (203, 200), (211, 201), (205, 209), (204, 209), (203, 211), (206, 204), (206, 206), (205, 206), (219, 158), (228, 158), (238, 158), (250, 158), (5, 159), (16, 159), (27, 159), (37, 31), (45, 159)]\n"
     ]
    }
   ],
   "source": [
    "compressedArr = readCompress(d, compressAddr)\n",
    "print \"Compressed Array:\", compressedArr"
   ]
  },
  {
   "cell_type": "markdown",
   "metadata": {},
   "source": [
    "Хак для уровня 2 - чтение базовых линий, задающих повторяющуюся мозаику"
   ]
  },
  {
   "cell_type": "code",
   "execution_count": 6,
   "metadata": {
    "collapsed": true
   },
   "outputs": [],
   "source": [
    "#hardcode for pyramides levels (2-2 - 2-3)\n",
    "def decompressLineForBackground(d, t, LINE_HEIGHT = 24):\n",
    "    index = - (3 + t - 255)\n",
    "    return decompressLine(d, 0x16627-index*24)"
   ]
  },
  {
   "cell_type": "markdown",
   "metadata": {},
   "source": [
    "Распаковка одной линии"
   ]
  },
  {
   "cell_type": "code",
   "execution_count": 7,
   "metadata": {
    "collapsed": false
   },
   "outputs": [],
   "source": [
    "def decompressLine(d, addr, LINE_HEIGHT = 24):\n",
    "    #print hex(addr)\n",
    "    ans = []\n",
    "    while len(ans) < LINE_HEIGHT:\n",
    "        v = d[addr]\n",
    "        #обычный тайл\n",
    "        if v < 0x80:\n",
    "            ans.append(v)\n",
    "        #базовая линия (взять из линии-шаблона первые countFromBackground символов)\n",
    "        elif v >= 0xFC:\n",
    "            #print \"Base line used\"\n",
    "            addr +=1\n",
    "            backLine = decompressLineForBackground(d, v)\n",
    "            countFromBackground = d[addr]\n",
    "            ans.extend(backLine[:countFromBackground])\n",
    "        #значение из RLE-словаря\n",
    "        else:\n",
    "            cv = v & 0x7F\n",
    "            repeatCount, repeatTile = compressedArr[cv]\n",
    "            ans.extend([repeatTile]*repeatCount)\n",
    "        addr += 1\n",
    "    return ans"
   ]
  },
  {
   "cell_type": "markdown",
   "metadata": {},
   "source": [
    "Распаковка всех линий уровня"
   ]
  },
  {
   "cell_type": "code",
   "execution_count": 8,
   "metadata": {
    "collapsed": false
   },
   "outputs": [],
   "source": [
    "levelWidths = [256*3, 256*3, 256*3+128, 256*4, 256*4, 256*3, 256*3, 256*1+128, 256*3]\n",
    "def decompressScreen():\n",
    "    lines = []\n",
    "    #actually, it's 3 separate configs for level x-1, x-2, x-3, but it has similar pointers and\n",
    "    # lie together, so we simple read x3 times to get info of whole level\n",
    "    WIDTH = levelWidths[LEVEL_NO]\n",
    "    HEIGHT = 24\n",
    "    curLinePtrsAddr = linesPtrsAddr\n",
    "    for l in xrange(WIDTH):\n",
    "        #print \"CUR_LINE_PTR\", hex(curLinePtrsAddr)\n",
    "        lineAddr = addPtrToLines(readWord(d, curLinePtrsAddr), LEVEL_NO)\n",
    "        #print \"LINE_ADDR\", hex(readWord(d, curLinePtrsAddr))\n",
    "        vals = decompressLine(d, lineAddr, HEIGHT)\n",
    "        #print vals\n",
    "        if len(vals) != HEIGHT:\n",
    "            print \"Warning\", len(vals)\n",
    "            print vals\n",
    "            vals = vals[:HEIGHT]\n",
    "        ##assert(len(vals)== HEIGHT)\n",
    "        lines.append(vals)\n",
    "        curLinePtrsAddr += 2\n",
    "    return lines"
   ]
  },
  {
   "cell_type": "code",
   "execution_count": 9,
   "metadata": {
    "collapsed": false
   },
   "outputs": [],
   "source": [
    "lines = decompressScreen()\n",
    "screen = [item for sublist in lines for item in sublist]"
   ]
  },
  {
   "cell_type": "code",
   "execution_count": 10,
   "metadata": {
    "collapsed": false
   },
   "outputs": [],
   "source": [
    "dumpName = os.path.join(cadEditorDir, \"settings_felix_the_cat/dump%d.bin\"%(LEVEL_NO+1))\n",
    "with open(dumpName, \"wb\") as f:\n",
    "    v = \"\".join(map(chr, screen))\n",
    "    f.write(v)"
   ]
  },
  {
   "cell_type": "markdown",
   "metadata": {
    "collapsed": true
   },
   "source": [
    "КОМПРЕССИЯ\n",
    "---"
   ]
  },
  {
   "cell_type": "code",
   "execution_count": 11,
   "metadata": {
    "collapsed": true
   },
   "outputs": [],
   "source": [
    "from itertools import groupby\n",
    "\n",
    "def chunks(l, n):\n",
    "    \"\"\"Yield successive n-sized chunks from l.\"\"\"\n",
    "    for i in range(0, len(l), n):\n",
    "        yield l[i:i + n]"
   ]
  },
  {
   "cell_type": "markdown",
   "metadata": {},
   "source": [
    "Считывание сохранённого дампа"
   ]
  },
  {
   "cell_type": "code",
   "execution_count": 12,
   "metadata": {
    "collapsed": true
   },
   "outputs": [],
   "source": [
    "dumpName = os.path.join(cadEditorDir, \"settings_felix_the_cat/dump%d.bin\")%(LEVEL_NO+1)\n",
    "with open(dumpName, \"rb\") as f:\n",
    "    d = f.read()\n",
    "    \n",
    "screen = map(ord, d)"
   ]
  },
  {
   "cell_type": "markdown",
   "metadata": {},
   "source": [
    "Замена цепочки повторяющихся значений в линии на их индекс в RLE-словаре"
   ]
  },
  {
   "cell_type": "code",
   "execution_count": 13,
   "metadata": {
    "collapsed": false
   },
   "outputs": [],
   "source": [
    "def compressorReplace(lines, compressedPair, index):\n",
    "    #replace with string version of lines for it's great replace method :)\n",
    "    tc, ti = compressedPair\n",
    "    findSeq = chr(ti)*tc\n",
    "    ans = []\n",
    "    findAtLeastOneReplace = False\n",
    "    for line in lines:\n",
    "        rline = \"\".join(chr(l) for l in line).replace(findSeq, chr(index | 0x80))\n",
    "        rline = [ord(l) for l in rline]\n",
    "        if line != rline:\n",
    "            findAtLeastOneReplace = True\n",
    "        #print \"before:\", compressedPair, line, index\n",
    "        #print \"after :\", compressedPair, rline, index\n",
    "        ans.append(rline)\n",
    "    return ans, findAtLeastOneReplace"
   ]
  },
  {
   "cell_type": "markdown",
   "metadata": {},
   "source": [
    "Построение потенциального RLE-словаря. Параметр forbiddenArr - список значений, которые не точно не будут использованы при построении реального словаря, используется для итеративного улучшения словаря."
   ]
  },
  {
   "cell_type": "code",
   "execution_count": 14,
   "metadata": {
    "collapsed": false
   },
   "outputs": [],
   "source": [
    "def rebuildCompress(screen, forbiddenArr, maxCompressSize = 256, LINE_LEN=24):\n",
    "    fullAns = [(0,0)]*maxCompressSize\n",
    "    lines = list(chunks(screen, LINE_LEN))\n",
    "    x = 0\n",
    "    while x < maxCompressSize:\n",
    "        ans = {}\n",
    "        for line in lines:\n",
    "            repeats = [list(g) for _, g in groupby(line)]\n",
    "            repeats = [(g[0],len(g)) for g in repeats]\n",
    "            for (tileNo,tileCount) in repeats:\n",
    "                #for tc in xrange(tileCount, tileCount+1):\n",
    "                for tc in xrange(2,tileCount+1):\n",
    "                    compressPair = tileNo, tc\n",
    "                    if compressPair in ans:\n",
    "                        ans[compressPair] += 1\n",
    "                    else:\n",
    "                        ans[compressPair] = 1\n",
    "        #рассчёт ценности замены - длины цепочки * частоты её встречаемости\n",
    "        def calcPoints(v):\n",
    "            (t,c), cnt = v\n",
    "            return -(c-1)*cnt\n",
    "    \n",
    "        ans = sorted(ans.iteritems(), key = calcPoints)\n",
    "        #filter and reverse values\n",
    "        newAns = []\n",
    "        for a in ans:\n",
    "            if (a[0][0]) < 0x80:\n",
    "                newAns.append((a[0][1],a[0][0]))\n",
    "        \n",
    "        newAns = filter(lambda v: v not in forbiddenArr, newAns)\n",
    "        if len(newAns) == 0:\n",
    "            break\n",
    "            \n",
    "        #HINT!!! if first results are similar in points, then we can use it's all\n",
    "        ansValue = newAns[0][1]\n",
    "        #newAns = filter(lambda x: x[1]==ansValue, newAns) #comment this for best results!\n",
    "        #newAns = sorted(newAns, key = lambda x: -x[0])\n",
    "        #print newAns\n",
    "        similar, maxSimilar = 0, 256\n",
    "        while len(newAns) > 0 and x < maxCompressSize and similar < maxSimilar:\n",
    "            curAns = newAns[0]\n",
    "            lines, findAtLeastOneReplace = compressorReplace(lines, curAns, x)\n",
    "            fullAns[x] = curAns\n",
    "            x += 1\n",
    "            similar += 1\n",
    "            newAns = newAns[1:]\n",
    "    return fullAns"
   ]
  },
  {
   "cell_type": "markdown",
   "metadata": {},
   "source": [
    "Простая версия построения словаря, без учёта перестройки линий и исключения неиспользуемых значений, для сравнения результатов"
   ]
  },
  {
   "cell_type": "code",
   "execution_count": 15,
   "metadata": {
    "collapsed": true
   },
   "outputs": [],
   "source": [
    "def rebuildCompressNoDinamic(screen, maxCompressSize = 64, LINE_LEN=24):\n",
    "    ans = {}\n",
    "    for line in chunks(screen, LINE_LEN):\n",
    "        repeats = [list(g) for _, g in groupby(line)]\n",
    "        repeats = [(g[0],len(g)) for g in repeats]\n",
    "        for (tileNo,tileCount) in repeats:\n",
    "            #for tc in xrange(tileCount, tileCount+1):\n",
    "            for tc in xrange(2,tileCount+1):\n",
    "                compressPair = tileNo, tc\n",
    "                if compressPair in ans:\n",
    "                    ans[compressPair] += 1\n",
    "                else:\n",
    "                    ans[compressPair] = 1\n",
    "    #--\n",
    "    def calcPoints(v):\n",
    "        (t,c), cnt = v\n",
    "        return -(c-1)*cnt\n",
    "    \n",
    "    ans = sorted(ans.iteritems(), key = calcPoints)\n",
    "    #reverse values\n",
    "    ans = map (lambda x: (x[0][1],x[0][0]), ans[:maxCompressSize])\n",
    "    return ans"
   ]
  },
  {
   "cell_type": "markdown",
   "metadata": {},
   "source": [
    "Построение RLE-словаря"
   ]
  },
  {
   "cell_type": "code",
   "execution_count": 16,
   "metadata": {
    "collapsed": false
   },
   "outputs": [
    {
     "name": "stdout",
     "output_type": "stream",
     "text": [
      "Compression array: [(12, 0), (11, 0), (13, 0), (10, 0), (14, 0), (15, 0), (9, 0), (8, 0), (7, 0), (6, 0), (5, 0), (16, 0), (4, 0), (3, 0), (17, 0), (2, 0), (4, 1), (9, 50), (8, 50), (7, 50), (5, 50), (6, 50), (10, 50), (4, 50), (3, 1), (11, 50), (13, 50), (12, 50), (13, 33), (3, 50), (11, 33), (12, 33), (10, 33), (9, 33), (18, 0), (8, 33), (2, 1), (7, 33), (14, 50), (2, 50), (12, 1), (6, 33), (11, 1), (10, 1), (19, 0), (14, 1), (5, 33), (9, 1), (13, 1), (8, 1), (3, 33), (4, 33), (5, 115), (7, 1), (3, 115), (2, 115), (6, 1), (18, 1), (17, 1), (4, 115), (16, 1), (15, 1), (5, 1), (2, 33), (19, 1), (11, 22), (10, 22), (13, 26), (13, 22), (7, 54), (8, 54), (12, 26), (12, 22), (9, 22), (9, 26), (5, 22), (11, 26), (6, 54), (8, 26), (5, 54), (15, 50), (5, 26), (8, 22), (4, 54), (10, 26), (14, 26), (6, 26), (7, 26), (7, 22), (13, 62), (4, 22), (3, 54), (5, 15), (12, 62), (4, 15), (4, 26), (6, 22), (2, 54), (11, 62), (20, 1), (2, 15), (10, 62), (10, 54), (18, 50), (3, 22), (17, 50), (9, 62), (3, 26), (9, 54), (16, 50), (8, 62), (15, 3), (3, 15), (15, 26), (14, 22), (14, 3), (7, 62), (13, 3), (12, 3), (6, 62), (11, 3), (2, 73), (10, 3), (4, 3), (5, 62), (5, 47), (9, 3), (2, 26), (2, 22), (5, 46), (8, 3), (4, 47), (7, 3), (3, 73), (4, 46), (2, 4), (3, 3), (4, 62), (6, 3), (2, 75), (6, 15), (3, 46), (3, 47), (2, 67), (3, 62), (5, 3), (2, 3), (2, 62), (2, 47), (2, 46), (2, 74), (2, 66), (2, 23), (0, 0), (0, 0), (0, 0), (0, 0), (0, 0), (0, 0), (0, 0), (0, 0), (0, 0), (0, 0), (0, 0), (0, 0), (0, 0), (0, 0), (0, 0), (0, 0), (0, 0), (0, 0), (0, 0), (0, 0), (0, 0), (0, 0), (0, 0), (0, 0), (0, 0), (0, 0), (0, 0), (0, 0), (0, 0), (0, 0), (0, 0), (0, 0), (0, 0), (0, 0), (0, 0), (0, 0), (0, 0), (0, 0), (0, 0), (0, 0), (0, 0), (0, 0), (0, 0), (0, 0), (0, 0), (0, 0), (0, 0), (0, 0), (0, 0), (0, 0), (0, 0), (0, 0), (0, 0), (0, 0), (0, 0), (0, 0), (0, 0), (0, 0), (0, 0), (0, 0), (0, 0), (0, 0), (0, 0), (0, 0), (0, 0), (0, 0), (0, 0), (0, 0), (0, 0), (0, 0), (0, 0), (0, 0), (0, 0), (0, 0), (0, 0), (0, 0), (0, 0), (0, 0), (0, 0), (0, 0), (0, 0), (0, 0), (0, 0), (0, 0), (0, 0), (0, 0), (0, 0), (0, 0), (0, 0), (0, 0), (0, 0), (0, 0), (0, 0), (0, 0), (0, 0), (0, 0), (0, 0), (0, 0), (0, 0), (0, 0), (0, 0), (0, 0), (0, 0)]\n"
     ]
    }
   ],
   "source": [
    "#comment all this cell for no rebuild RLE-dictionary\n",
    "\n",
    "#!!!\n",
    "#forbidden = [(15, 15), (14, 15), (13, 15), (15, 5), (22, 124), (21, 124), (14, 5), (3, 108), (2, 112)]\n",
    "#forbidden.extend([(12, 15), (20, 124), (13, 5), (19, 124), (2, 15), (3, 109)])\n",
    "#forbidden.extend([(17, 15), (18, 124), (3, 110), (3, 80)])\n",
    "#forbidden.extend([(11, 15), (2, 5), (2, 80), (0, 0)])\n",
    "#\n",
    "\n",
    "compressedArr = rebuildCompress(screen, [])\n",
    "print \"Compression array:\", compressedArr\n",
    "\n",
    "#compressedArr = rebuildCompressNoDinamic(screen)\n",
    "#print compressedArr"
   ]
  },
  {
   "cell_type": "markdown",
   "metadata": {},
   "source": [
    "Запаковка строки. Выбирает самую длинную из возможных RLE-цепочек в словаре. Параметр compressedArrUsing возвращает количество использований каждого из значений словаря, что позволяет отследить неиспользуемые значения в словаре"
   ]
  },
  {
   "cell_type": "code",
   "execution_count": 17,
   "metadata": {
    "collapsed": true
   },
   "outputs": [],
   "source": [
    "def packRepeat(repeat, compressedArr, compressedArrUsing):\n",
    "    tileNo, tileCount = repeat\n",
    "    if tileCount <= 0:\n",
    "        return []\n",
    "    if tileCount == 1:\n",
    "        return [tileNo]\n",
    "    #---\n",
    "    maxInd, maxCount = -1, -1\n",
    "    for (ind,(c,t)) in enumerate(compressedArr):\n",
    "        if t == tileNo and c <= tileCount:\n",
    "            if c > maxCount:\n",
    "                maxCount = c\n",
    "                maxInd = ind\n",
    "    if maxInd != -1:\n",
    "        compressedArrUsing[maxInd] += 1\n",
    "        return [0x80 | maxInd ] + packRepeat((tileNo, tileCount - maxCount), compressedArr, compressedArrUsing)\n",
    "    #---\n",
    "    return [tileNo] + packRepeat((tileNo, tileCount-1), compressedArr, compressedArrUsing)\n",
    "\n",
    "def compressLine(l, compressedArr, compressedArrUsing):\n",
    "    repeats = [list(g) for _, g in groupby(l)]\n",
    "    repeats = [(g[0],len(g)) for g in repeats]\n",
    "    ans = []\n",
    "    for r in repeats:\n",
    "        ans.extend(packRepeat(r, compressedArr, compressedArrUsing))\n",
    "    return ans\n"
   ]
  },
  {
   "cell_type": "markdown",
   "metadata": {},
   "source": [
    "Сжатие целого экрана"
   ]
  },
  {
   "cell_type": "code",
   "execution_count": 18,
   "metadata": {
    "collapsed": false
   },
   "outputs": [],
   "source": [
    "def compressScreen(screen, startDataAddr):\n",
    "    LINE_LEN = 24\n",
    "    curAddr = startDataAddr\n",
    "    prevLinesAddrs = {}\n",
    "    linesAddrs = []\n",
    "    linesArray = []\n",
    "    compressedArrUsing = [0] * len(compressedArr)\n",
    "    for line in chunks(screen, LINE_LEN):\n",
    "        cline = compressLine(line, compressedArr, compressedArrUsing)\n",
    "        #print cline, \",\"\n",
    "        clineTupple = tuple(cline)\n",
    "        if clineTupple in prevLinesAddrs:\n",
    "            linesAddrs.append(prevLinesAddrs[clineTupple])\n",
    "            continue\n",
    "        prevLinesAddrs[clineTupple] = curAddr\n",
    "        linesAddrs.append(curAddr)\n",
    "        linesArray.extend(cline)\n",
    "        curAddr += len(cline)\n",
    "    return linesAddrs, linesArray, compressedArrUsing"
   ]
  },
  {
   "cell_type": "markdown",
   "metadata": {},
   "source": [
    "Последовательный подбор словаря и сжатие им с очисткой словаря"
   ]
  },
  {
   "cell_type": "code",
   "execution_count": 19,
   "metadata": {
    "collapsed": false
   },
   "outputs": [
    {
     "name": "stdout",
     "output_type": "stream",
     "text": [
      "Compressed size: 5664\n",
      "Compressed size: 5664\n",
      "Final compressed arr (82 size): [(12, 0), (11, 0), (13, 0), (10, 0), (14, 0), (15, 0), (9, 0), (8, 0), (6, 0), (5, 0), (16, 0), (4, 0), (3, 0), (17, 0), (2, 0), (4, 1), (9, 50), (8, 50), (7, 50), (5, 50), (6, 50), (10, 50), (4, 50), (3, 1), (11, 50), (13, 50), (12, 50), (13, 33), (3, 50), (11, 33), (18, 0), (2, 1), (14, 50), (2, 50), (12, 1), (19, 0), (14, 1), (3, 33), (5, 115), (3, 115), (2, 115), (18, 1), (2, 33), (19, 1), (11, 22), (13, 26), (13, 22), (7, 54), (8, 54), (9, 26), (5, 22), (5, 54), (15, 50), (5, 26), (4, 54), (14, 26), (6, 26), (13, 62), (3, 54), (5, 15), (4, 15), (2, 54), (20, 1), (2, 15), (10, 54), (18, 50), (3, 26), (15, 3), (15, 26), (14, 22), (2, 73), (4, 3), (5, 47), (5, 46), (3, 73), (2, 4), (2, 75), (6, 15), (2, 67), (2, 74), (2, 66), (2, 23)]\n"
     ]
    }
   ],
   "source": [
    "romPatchDataArrayAddr  = readWord(rom, linesPtrsAddr)\n",
    "\n",
    "fullForbiddenArr = []\n",
    "\n",
    "while True:\n",
    "    linesAddrs, linesArray, compressedArrUsing = compressScreen(screen, romPatchDataArrayAddr)\n",
    "    forbiddenArr = []\n",
    "    print \"Compressed size:\", len(linesArray)\n",
    "    #print compressedArrUsing\n",
    "    for ca, car in zip(compressedArr, compressedArrUsing):\n",
    "        if car == 0 and ca != (0,0):\n",
    "            forbiddenArr.append(ca)\n",
    "    #break #uncomment for no rebuild dict\n",
    "    if forbiddenArr == []:\n",
    "        break\n",
    "    fullForbiddenArr.extend(forbiddenArr)\n",
    "    compressedArr = rebuildCompress(screen, fullForbiddenArr)\n",
    "compressedArr = filter (lambda v: v!=(0,0), compressedArr)\n",
    "print \"Final compressed arr (%d size):\" % len(compressedArr), compressedArr\n",
    "\n",
    "#for la in linesAddrs:\n",
    "#    print hex(la)"
   ]
  },
  {
   "cell_type": "markdown",
   "metadata": {},
   "source": [
    "ПАТЧИНГ РОМА\n",
    "--\n",
    "Запаковка сжатых данных обратно в ROM-файл.\n",
    "Возможны ошибки в случае, если сжатые данные занимают больше места, чем исходные"
   ]
  },
  {
   "cell_type": "code",
   "execution_count": 20,
   "metadata": {
    "collapsed": true
   },
   "outputs": [],
   "source": [
    "romName = os.path.join(cadEditorDir, \"Felix the Cat (U) [!].nes\")\n",
    "romName2 = os.path.join(cadEditorDir, \"Felix the Cat (U) [!]-2.nes\")\n",
    "with open(romName, \"rb\") as f:\n",
    "    d = f.read()\n",
    "    d = map(ord, d)"
   ]
  },
  {
   "cell_type": "code",
   "execution_count": 21,
   "metadata": {
    "collapsed": false
   },
   "outputs": [
    {
     "name": "stdout",
     "output_type": "stream",
     "text": [
      "Lines   addr:  0xb5f9\n",
      "RleDict addr:  0xb50b\n",
      "Data    addr:  0x9eeb\n"
     ]
    }
   ],
   "source": [
    "romPatchLinesArrayAddr = linesPtrsAddr\n",
    "print \"Lines   addr: \", hex(romPatchLinesArrayAddr)\n",
    "romPatchCompressArrayAddr = compressAddr\n",
    "print \"RleDict addr: \", hex(romPatchCompressArrayAddr)\n",
    "romPatchDataArrayAddr  = addBankOffset(readWord(d, linesPtrsAddr), LEVEL_NO)\n",
    "print \"Data    addr: \", hex(romPatchDataArrayAddr)\n"
   ]
  },
  {
   "cell_type": "code",
   "execution_count": 22,
   "metadata": {
    "collapsed": false
   },
   "outputs": [
    {
     "name": "stdout",
     "output_type": "stream",
     "text": [
      "Total data written: 5664\n"
     ]
    }
   ],
   "source": [
    "#convert pointer to bytes\n",
    "dataLines = []\n",
    "for addr in linesAddrs:\n",
    "    dataLines.extend(wordToBytes(addr))\n",
    "\n",
    "#write lines pointers\n",
    "for x in xrange(len(dataLines)):\n",
    "    #we must save some bits in hi-bytes addr, because they used to encoding objects\n",
    "    curAddr = romPatchLinesArrayAddr+x\n",
    "    if x % 2 == 1:\n",
    "        v = d[romPatchLinesArrayAddr+x]\n",
    "        v = (v & 0xC0) | (dataLines[x] & 0x3F)\n",
    "        d[romPatchLinesArrayAddr+x] = v\n",
    "    else:\n",
    "        d[romPatchLinesArrayAddr+x] = dataLines[x]\n",
    "#write lines data\n",
    "print \"Total data written:\", len(linesArray)\n",
    "#print linesArray\n",
    "d[romPatchDataArrayAddr:romPatchDataArrayAddr+len(linesArray)] = linesArray\n",
    "#write compress dict\n",
    "compressedData = [y for x in compressedArr for y in x]\n",
    "d[romPatchCompressArrayAddr:romPatchCompressArrayAddr+len(compressedData)] = compressedData\n",
    "for i, dd in enumerate(d):\n",
    "    if dd > 256:\n",
    "        print hex(i), dd\n",
    "with open(romName2, \"wb\") as f:\n",
    "    f.write(\"\".join(map(chr, d)))"
   ]
  },
  {
   "cell_type": "markdown",
   "metadata": {
    "collapsed": true
   },
   "source": [
    "Для уровня 1:\n",
    "<pre>\n",
    "0. Размер сжатых данных со словарём, используемом в игре: 3740 байт\n",
    "1. Размер данных со статическим составлением словаря:     3879 байт\n",
    "(при этом до повтора целых линий - 6313 байт)\n",
    "2. Размер данных с динамическим составлением словаря:     4695 байт\n",
    "3. C поправкой на использование неск. возможных значений: 3838 байт\n",
    "4. С циклическим исключением возможных ошибок:            3817 байт\n",
    "5. С большим размером словаря:                            3740 байт\n",
    "</pre>"
   ]
  },
  {
   "cell_type": "code",
   "execution_count": null,
   "metadata": {
    "collapsed": true
   },
   "outputs": [],
   "source": []
  }
 ],
 "metadata": {
  "kernelspec": {
   "display_name": "Python 2",
   "language": "python",
   "name": "python2"
  },
  "language_info": {
   "codemirror_mode": {
    "name": "ipython",
    "version": 2
   },
   "file_extension": ".py",
   "mimetype": "text/x-python",
   "name": "python",
   "nbconvert_exporter": "python",
   "pygments_lexer": "ipython2",
   "version": "2.7.12"
  }
 },
 "nbformat": 4,
 "nbformat_minor": 0
}
