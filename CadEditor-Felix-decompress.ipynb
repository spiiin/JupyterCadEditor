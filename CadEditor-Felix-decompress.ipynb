{
 "cells": [
  {
   "cell_type": "markdown",
   "metadata": {},
   "source": [
    "Скрипт для компрессии и декомпрессии данных в игре Felix The Cat [NES]\n",
    "--"
   ]
  },
  {
   "cell_type": "markdown",
   "metadata": {},
   "source": [
    "Декомпрессия\n",
    "---"
   ]
  },
  {
   "cell_type": "markdown",
   "metadata": {},
   "source": [
    "Считывание данных из ROM, для удобства конвертируем их из символов в числа"
   ]
  },
  {
   "cell_type": "code",
   "execution_count": null,
   "metadata": {},
   "outputs": [],
   "source": [
    "from cadEditorPath import cadEditorDir\n",
    "import os\n",
    "\n",
    "romName = os.path.join(cadEditorDir, \"Felix the Cat (U) [!].nes\")\n",
    "with open(romName, \"rb\") as f:\n",
    "    d = f.read()\n",
    "rom = d[:]"
   ]
  },
  {
   "cell_type": "markdown",
   "metadata": {},
   "source": [
    "Вспомогательные функции"
   ]
  },
  {
   "cell_type": "code",
   "execution_count": null,
   "metadata": {},
   "outputs": [],
   "source": [
    "def readWord(d, addr):\n",
    "    return d[addr+1]<<8 | d[addr]\n",
    "\n",
    "def wordToBytes(word):\n",
    "    return word&0xFF, word>>8\n",
    "\n",
    "\n",
    "#прибавление адресов банков\n",
    "def addBankOffset(addr, levelNo):\n",
    "    offsets = [0x10010, 0xC010, 0x8010, 0x10, 0x4010, 0x8010, 0x4010, 0xc010, 0x10]\n",
    "    return addr + offsets[levelNo]\n",
    "\n",
    "#прибавление адресов банков\n",
    "def addPtrToLinesPtr(addr, levelNo):\n",
    "    return addBankOffset(addr, levelNo)\n",
    "\n",
    "def addPtrToCompress(addr, levelNo):\n",
    "    return addBankOffset(addr, levelNo)\n",
    "\n",
    "#маскирование ненужных бит из адреса линий, которые кодируют информацию о списке объектов\n",
    "def removeObjBits(addr):\n",
    "    if addr < 0x8000:\n",
    "        addr += 0x8000\n",
    "    if addr > 0xC000:\n",
    "        addr -= 0x4000\n",
    "    return addr\n",
    "    \n",
    "#расчёт адресов линий\n",
    "def addPtrToLines(addr, levelNo):\n",
    "    addr = removeObjBits(addr)\n",
    "    return addBankOffset(addr, levelNo)"
   ]
  },
  {
   "cell_type": "markdown",
   "metadata": {},
   "source": [
    "Чтение поинтеров на массив адресов линий и словарь для распаковки из ROM"
   ]
  },
  {
   "cell_type": "code",
   "execution_count": null,
   "metadata": {
    "scrolled": true
   },
   "outputs": [],
   "source": [
    "LEVEL_NO = 8\n",
    "\n",
    "baseAddrs = [0x280, 0x2e0, 0x340, 0x3A0, 0x400, 0x460, 0x4A0, 0x4e0, 0x500]\n",
    "baseAddr = baseAddrs[LEVEL_NO]\n",
    "linesPtrsAddr = addPtrToLinesPtr(readWord(d,baseAddr-2), LEVEL_NO)\n",
    "compressAddr = addPtrToCompress (readWord(d,baseAddr)  , LEVEL_NO)\n",
    "    \n",
    "print(\"Lines array addr   :\", hex(linesPtrsAddr))\n",
    "print(\"Compress dict addr :\", hex(compressAddr))"
   ]
  },
  {
   "cell_type": "markdown",
   "metadata": {},
   "source": [
    "Чтение RLE-словаря для распаковки"
   ]
  },
  {
   "cell_type": "code",
   "execution_count": null,
   "metadata": {},
   "outputs": [],
   "source": [
    "def readCompress(d, addr):\n",
    "    ans = []\n",
    "    for c in range(128):\n",
    "        ans.append((d[addr], d[addr+1]))\n",
    "        addr += 2\n",
    "    return ans"
   ]
  },
  {
   "cell_type": "code",
   "execution_count": null,
   "metadata": {},
   "outputs": [],
   "source": [
    "compressedArr = readCompress(d, compressAddr)\n",
    "print(\"Compressed Array:\", compressedArr)"
   ]
  },
  {
   "cell_type": "markdown",
   "metadata": {},
   "source": [
    "Хак для уровня 2 - чтение базовых линий, задающих повторяющуюся мозаику"
   ]
  },
  {
   "cell_type": "code",
   "execution_count": null,
   "metadata": {
    "collapsed": true
   },
   "outputs": [],
   "source": [
    "#hardcode for pyramides levels (2-2 - 2-3)\n",
    "def decompressLineForBackground(d, t, LINE_HEIGHT = 24):\n",
    "    index = - (3 + t - 255)\n",
    "    return decompressLine(d, 0x16627-index*24)"
   ]
  },
  {
   "cell_type": "markdown",
   "metadata": {},
   "source": [
    "Распаковка одной линии"
   ]
  },
  {
   "cell_type": "code",
   "execution_count": null,
   "metadata": {},
   "outputs": [],
   "source": [
    "def decompressLine(d, addr, LINE_HEIGHT = 24):\n",
    "    #print hex(addr)\n",
    "    ans = []\n",
    "    while len(ans) < LINE_HEIGHT:\n",
    "        v = d[addr]\n",
    "        #обычный тайл\n",
    "        if v < 0x80:\n",
    "            ans.append(v)\n",
    "        #базовая линия (взять из линии-шаблона первые countFromBackground символов)\n",
    "        elif v >= 0xFC:\n",
    "            #print \"Base line used\"\n",
    "            addr +=1\n",
    "            backLine = decompressLineForBackground(d, v)\n",
    "            countFromBackground = d[addr]\n",
    "            ans.extend(backLine[:countFromBackground])\n",
    "        #значение из RLE-словаря\n",
    "        else:\n",
    "            cv = v & 0x7F\n",
    "            repeatCount, repeatTile = compressedArr[cv]\n",
    "            ans.extend([repeatTile]*repeatCount)\n",
    "        addr += 1\n",
    "    return ans"
   ]
  },
  {
   "cell_type": "markdown",
   "metadata": {},
   "source": [
    "Распаковка всех линий уровня"
   ]
  },
  {
   "cell_type": "code",
   "execution_count": null,
   "metadata": {},
   "outputs": [],
   "source": [
    "levelWidths = [256*3, 256*3, 256*3+128, 256*4, 256*4, 256*3, 256*3, 256*1+128, 256*3]\n",
    "def decompressScreen():\n",
    "    lines = []\n",
    "    #actually, it's 3 separate configs for level x-1, x-2, x-3, but it has similar pointers and\n",
    "    # lie together, so we simple read x3 times to get info of whole level\n",
    "    WIDTH = levelWidths[LEVEL_NO]\n",
    "    HEIGHT = 24\n",
    "    curLinePtrsAddr = linesPtrsAddr\n",
    "    for l in range(WIDTH):\n",
    "        #print \"CUR_LINE_PTR\", hex(curLinePtrsAddr)\n",
    "        lineAddr = addPtrToLines(readWord(d, curLinePtrsAddr), LEVEL_NO)\n",
    "        #print \"LINE_ADDR\", hex(readWord(d, curLinePtrsAddr))\n",
    "        vals = decompressLine(d, lineAddr, HEIGHT)\n",
    "        #print vals\n",
    "        if len(vals) != HEIGHT:\n",
    "            print(\"Warning\", len(vals))\n",
    "            print(vals)\n",
    "            vals = vals[:HEIGHT]\n",
    "        ##assert(len(vals)== HEIGHT)\n",
    "        lines.append(vals)\n",
    "        curLinePtrsAddr += 2\n",
    "    return lines"
   ]
  },
  {
   "cell_type": "code",
   "execution_count": null,
   "metadata": {},
   "outputs": [],
   "source": [
    "lines = decompressScreen()\n",
    "screen = [item for sublist in lines for item in sublist]"
   ]
  },
  {
   "cell_type": "code",
   "execution_count": null,
   "metadata": {},
   "outputs": [],
   "source": [
    "dumpName = os.path.join(cadEditorDir, \"settings_felix_the_cat/dump%d.bin\"%(LEVEL_NO+1))\n",
    "with open(dumpName, \"wb\") as f:\n",
    "    f.write(bytes(screen))"
   ]
  },
  {
   "cell_type": "markdown",
   "metadata": {
    "collapsed": true
   },
   "source": [
    "КОМПРЕССИЯ\n",
    "---"
   ]
  },
  {
   "cell_type": "code",
   "execution_count": null,
   "metadata": {
    "collapsed": true
   },
   "outputs": [],
   "source": [
    "from itertools import groupby\n",
    "\n",
    "def chunks(l, n):\n",
    "    \"\"\"Yield successive n-sized chunks from l.\"\"\"\n",
    "    for i in range(0, len(l), n):\n",
    "        yield l[i:i + n]"
   ]
  },
  {
   "cell_type": "markdown",
   "metadata": {},
   "source": [
    "Считывание сохранённого дампа"
   ]
  },
  {
   "cell_type": "code",
   "execution_count": null,
   "metadata": {
    "collapsed": true
   },
   "outputs": [],
   "source": [
    "dumpName = os.path.join(cadEditorDir, \"settings_felix_the_cat/dump%d.bin\")%(LEVEL_NO+1)\n",
    "with open(dumpName, \"rb\") as f:\n",
    "    d = f.read()\n",
    "    \n",
    "screen = d"
   ]
  },
  {
   "cell_type": "markdown",
   "metadata": {},
   "source": [
    "Замена цепочки повторяющихся значений в линии на их индекс в RLE-словаре"
   ]
  },
  {
   "cell_type": "code",
   "execution_count": null,
   "metadata": {},
   "outputs": [],
   "source": [
    "def compressorReplace(lines, compressedPair, index):\n",
    "    #replace with string version of lines for it's great replace method :)\n",
    "    tc, ti = compressedPair\n",
    "    findSeq = chr(ti)*tc\n",
    "    ans = []\n",
    "    findAtLeastOneReplace = False\n",
    "    for line in lines:\n",
    "        rline = \"\".join(chr(l) for l in line).replace(findSeq, chr(index | 0x80))\n",
    "        rline = [ord(l) for l in rline]\n",
    "        if line != rline:\n",
    "            findAtLeastOneReplace = True\n",
    "        #print \"before:\", compressedPair, line, index\n",
    "        #print \"after :\", compressedPair, rline, index\n",
    "        ans.append(rline)\n",
    "    return ans, findAtLeastOneReplace"
   ]
  },
  {
   "cell_type": "markdown",
   "metadata": {},
   "source": [
    "Построение потенциального RLE-словаря. Параметр forbiddenArr - список значений, которые не точно не будут использованы при построении реального словаря, используется для итеративного улучшения словаря."
   ]
  },
  {
   "cell_type": "code",
   "execution_count": null,
   "metadata": {},
   "outputs": [],
   "source": [
    "def rebuildCompress(screen, forbiddenArr, maxCompressSize = 256, LINE_LEN=24):\n",
    "    fullAns = [(0,0)]*maxCompressSize\n",
    "    lines = list(chunks(screen, LINE_LEN))\n",
    "    x = 0\n",
    "    while x < maxCompressSize:\n",
    "        ans = {}\n",
    "        for line in lines:\n",
    "            repeats = [list(g) for _, g in groupby(line)]\n",
    "            repeats = [(g[0],len(g)) for g in repeats]\n",
    "            for (tileNo,tileCount) in repeats:\n",
    "                #for tc in range(tileCount, tileCount+1):\n",
    "                for tc in range(2,tileCount+1):\n",
    "                    compressPair = tileNo, tc\n",
    "                    if compressPair in ans:\n",
    "                        ans[compressPair] += 1\n",
    "                    else:\n",
    "                        ans[compressPair] = 1\n",
    "        #рассчёт ценности замены - длины цепочки * частоты её встречаемости\n",
    "        def calcPoints(v):\n",
    "            (t,c), cnt = v\n",
    "            return -(c-1)*cnt\n",
    "    \n",
    "        ans = sorted(ans.items(), key = calcPoints)\n",
    "        #filter and reverse values\n",
    "        newAns = []\n",
    "        for a in ans:\n",
    "            if (a[0][0]) < 0x80:\n",
    "                newAns.append((a[0][1],a[0][0]))\n",
    "        \n",
    "        newAns = list(filter(lambda v: v not in forbiddenArr, newAns))\n",
    "        if len(newAns) == 0:\n",
    "            break\n",
    "            \n",
    "        #HINT!!! if first results are similar in points, then we can use it's all\n",
    "        ansValue = newAns[0][1]\n",
    "        #newAns = filter(lambda x: x[1]==ansValue, newAns) #comment this for best results!\n",
    "        #newAns = sorted(newAns, key = lambda x: -x[0])\n",
    "        #print newAns\n",
    "        similar, maxSimilar = 0, 256\n",
    "        while len(newAns) > 0 and x < maxCompressSize and similar < maxSimilar:\n",
    "            curAns = newAns[0]\n",
    "            lines, findAtLeastOneReplace = compressorReplace(lines, curAns, x)\n",
    "            fullAns[x] = curAns\n",
    "            x += 1\n",
    "            similar += 1\n",
    "            newAns = newAns[1:]\n",
    "    return fullAns"
   ]
  },
  {
   "cell_type": "markdown",
   "metadata": {},
   "source": [
    "Простая версия построения словаря, без учёта перестройки линий и исключения неиспользуемых значений, для сравнения результатов"
   ]
  },
  {
   "cell_type": "code",
   "execution_count": null,
   "metadata": {
    "collapsed": true
   },
   "outputs": [],
   "source": [
    "def rebuildCompressNoDinamic(screen, maxCompressSize = 64, LINE_LEN=24):\n",
    "    ans = {}\n",
    "    for line in chunks(screen, LINE_LEN):\n",
    "        repeats = [list(g) for _, g in groupby(line)]\n",
    "        repeats = [(g[0],len(g)) for g in repeats]\n",
    "        for (tileNo,tileCount) in repeats:\n",
    "            #for tc in range(tileCount, tileCount+1):\n",
    "            for tc in range(2,tileCount+1):\n",
    "                compressPair = tileNo, tc\n",
    "                if compressPair in ans:\n",
    "                    ans[compressPair] += 1\n",
    "                else:\n",
    "                    ans[compressPair] = 1\n",
    "    #--\n",
    "    def calcPoints(v):\n",
    "        (t,c), cnt = v\n",
    "        return -(c-1)*cnt\n",
    "    \n",
    "    ans = sorted(ans.iteritems(), key = calcPoints)\n",
    "    #reverse values\n",
    "    ans = map (lambda x: (x[0][1],x[0][0]), ans[:maxCompressSize])\n",
    "    return ans"
   ]
  },
  {
   "cell_type": "markdown",
   "metadata": {},
   "source": [
    "Построение RLE-словаря"
   ]
  },
  {
   "cell_type": "code",
   "execution_count": null,
   "metadata": {},
   "outputs": [],
   "source": [
    "#comment all this cell for no rebuild RLE-dictionary\n",
    "\n",
    "#!!!\n",
    "#forbidden = [(15, 15), (14, 15), (13, 15), (15, 5), (22, 124), (21, 124), (14, 5), (3, 108), (2, 112)]\n",
    "#forbidden.extend([(12, 15), (20, 124), (13, 5), (19, 124), (2, 15), (3, 109)])\n",
    "#forbidden.extend([(17, 15), (18, 124), (3, 110), (3, 80)])\n",
    "#forbidden.extend([(11, 15), (2, 5), (2, 80), (0, 0)])\n",
    "#\n",
    "\n",
    "compressedArr = rebuildCompress(screen, [])\n",
    "print(\"Compression array:\", compressedArr)\n",
    "\n",
    "#compressedArr = rebuildCompressNoDinamic(screen)\n",
    "#print compressedArr"
   ]
  },
  {
   "cell_type": "markdown",
   "metadata": {},
   "source": [
    "Запаковка строки. Выбирает самую длинную из возможных RLE-цепочек в словаре. Параметр compressedArrUsing возвращает количество использований каждого из значений словаря, что позволяет отследить неиспользуемые значения в словаре"
   ]
  },
  {
   "cell_type": "code",
   "execution_count": null,
   "metadata": {
    "collapsed": true
   },
   "outputs": [],
   "source": [
    "def packRepeat(repeat, compressedArr, compressedArrUsing):\n",
    "    tileNo, tileCount = repeat\n",
    "    if tileCount <= 0:\n",
    "        return []\n",
    "    if tileCount == 1:\n",
    "        return [tileNo]\n",
    "    #---\n",
    "    maxInd, maxCount = -1, -1\n",
    "    for (ind,(c,t)) in enumerate(compressedArr):\n",
    "        if t == tileNo and c <= tileCount:\n",
    "            if c > maxCount:\n",
    "                maxCount = c\n",
    "                maxInd = ind\n",
    "    if maxInd != -1:\n",
    "        compressedArrUsing[maxInd] += 1\n",
    "        return [0x80 | maxInd ] + packRepeat((tileNo, tileCount - maxCount), compressedArr, compressedArrUsing)\n",
    "    #---\n",
    "    return [tileNo] + packRepeat((tileNo, tileCount-1), compressedArr, compressedArrUsing)\n",
    "\n",
    "def compressLine(l, compressedArr, compressedArrUsing):\n",
    "    repeats = [list(g) for _, g in groupby(l)]\n",
    "    repeats = [(g[0],len(g)) for g in repeats]\n",
    "    ans = []\n",
    "    for r in repeats:\n",
    "        ans.extend(packRepeat(r, compressedArr, compressedArrUsing))\n",
    "    return ans\n"
   ]
  },
  {
   "cell_type": "markdown",
   "metadata": {},
   "source": [
    "Сжатие целого экрана"
   ]
  },
  {
   "cell_type": "code",
   "execution_count": null,
   "metadata": {},
   "outputs": [],
   "source": [
    "def compressScreen(screen, startDataAddr):\n",
    "    LINE_LEN = 24\n",
    "    curAddr = startDataAddr\n",
    "    prevLinesAddrs = {}\n",
    "    linesAddrs = []\n",
    "    linesArray = []\n",
    "    compressedArrUsing = [0] * len(compressedArr)\n",
    "    for line in chunks(screen, LINE_LEN):\n",
    "        cline = compressLine(line, compressedArr, compressedArrUsing)\n",
    "        #print cline, \",\"\n",
    "        clineTupple = tuple(cline)\n",
    "        if clineTupple in prevLinesAddrs:\n",
    "            linesAddrs.append(prevLinesAddrs[clineTupple])\n",
    "            continue\n",
    "        prevLinesAddrs[clineTupple] = curAddr\n",
    "        linesAddrs.append(curAddr)\n",
    "        linesArray.extend(cline)\n",
    "        curAddr += len(cline)\n",
    "    return linesAddrs, linesArray, compressedArrUsing"
   ]
  },
  {
   "cell_type": "markdown",
   "metadata": {},
   "source": [
    "Последовательный подбор словаря и сжатие им с очисткой словаря"
   ]
  },
  {
   "cell_type": "code",
   "execution_count": null,
   "metadata": {},
   "outputs": [],
   "source": [
    "romPatchDataArrayAddr  = readWord(rom, linesPtrsAddr)\n",
    "\n",
    "fullForbiddenArr = []\n",
    "\n",
    "while True:\n",
    "    linesAddrs, linesArray, compressedArrUsing = compressScreen(screen, romPatchDataArrayAddr)\n",
    "    forbiddenArr = []\n",
    "    print(\"Compressed size:\", len(linesArray))\n",
    "    #print compressedArrUsing\n",
    "    for ca, car in zip(compressedArr, compressedArrUsing):\n",
    "        if car == 0 and ca != (0,0):\n",
    "            forbiddenArr.append(ca)\n",
    "    #break #uncomment for no rebuild dict\n",
    "    if forbiddenArr == []:\n",
    "        break\n",
    "    fullForbiddenArr.extend(forbiddenArr)\n",
    "    compressedArr = rebuildCompress(screen, fullForbiddenArr)\n",
    "compressedArr = list(filter(lambda v: v!=(0,0), compressedArr))\n",
    "print(\"Final compressed arr (%d size):\" % len(compressedArr), compressedArr)\n",
    "\n",
    "#for la in linesAddrs:\n",
    "#    print hex(la)"
   ]
  },
  {
   "cell_type": "markdown",
   "metadata": {},
   "source": [
    "ПАТЧИНГ РОМА\n",
    "--\n",
    "Запаковка сжатых данных обратно в ROM-файл.\n",
    "Возможны ошибки в случае, если сжатые данные занимают больше места, чем исходные"
   ]
  },
  {
   "cell_type": "code",
   "execution_count": null,
   "metadata": {
    "collapsed": true
   },
   "outputs": [],
   "source": [
    "romName = os.path.join(cadEditorDir, \"Felix the Cat (U) [!].nes\")\n",
    "romName2 = os.path.join(cadEditorDir, \"Felix the Cat (U) [!]-2.nes\")\n",
    "with open(romName, \"rb\") as f:\n",
    "    d = f.read()\n",
    "    \n",
    "d = list(d)"
   ]
  },
  {
   "cell_type": "code",
   "execution_count": null,
   "metadata": {},
   "outputs": [],
   "source": [
    "romPatchLinesArrayAddr = linesPtrsAddr\n",
    "print(\"Lines   addr: \", hex(romPatchLinesArrayAddr))\n",
    "romPatchCompressArrayAddr = compressAddr\n",
    "print(\"RleDict addr: \", hex(romPatchCompressArrayAddr))\n",
    "romPatchDataArrayAddr  = addBankOffset(readWord(d, linesPtrsAddr), LEVEL_NO)\n",
    "print(\"Data    addr: \", hex(romPatchDataArrayAddr))\n"
   ]
  },
  {
   "cell_type": "code",
   "execution_count": null,
   "metadata": {},
   "outputs": [],
   "source": [
    "#convert pointer to bytes\n",
    "dataLines = []\n",
    "for addr in linesAddrs:\n",
    "    dataLines.extend(wordToBytes(addr))\n",
    "\n",
    "#write lines pointers\n",
    "for x in range(len(dataLines)):\n",
    "    #we must save some bits in hi-bytes addr, because they used to encoding objects\n",
    "    curAddr = romPatchLinesArrayAddr+x\n",
    "    if x % 2 == 1:\n",
    "        v = d[romPatchLinesArrayAddr+x]\n",
    "        v = (v & 0xC0) | (dataLines[x] & 0x3F)\n",
    "        d[romPatchLinesArrayAddr+x] = v\n",
    "    else:\n",
    "        d[romPatchLinesArrayAddr+x] = dataLines[x]\n",
    "#write lines data\n",
    "print(\"Total data written:\", len(linesArray))\n",
    "#print linesArray\n",
    "d[romPatchDataArrayAddr:romPatchDataArrayAddr+len(linesArray)] = linesArray\n",
    "#write compress dict\n",
    "compressedData = [y for x in compressedArr for y in x]\n",
    "d[romPatchCompressArrayAddr:romPatchCompressArrayAddr+len(compressedData)] = compressedData\n",
    "for i, dd in enumerate(d):\n",
    "    if dd > 256:\n",
    "        print(hex(i), dd)\n",
    "with open(romName2, \"wb\") as f:\n",
    "    f.write(bytes(d))"
   ]
  },
  {
   "cell_type": "markdown",
   "metadata": {
    "collapsed": true
   },
   "source": [
    "Для уровня 1:\n",
    "<pre>\n",
    "0. Размер сжатых данных со словарём, используемом в игре: 3740 байт\n",
    "1. Размер данных со статическим составлением словаря:     3879 байт\n",
    "(при этом до повтора целых линий - 6313 байт)\n",
    "2. Размер данных с динамическим составлением словаря:     4695 байт\n",
    "3. C поправкой на использование неск. возможных значений: 3838 байт\n",
    "4. С циклическим исключением возможных ошибок:            3817 байт\n",
    "5. С большим размером словаря:                            3740 байт\n",
    "</pre>"
   ]
  },
  {
   "cell_type": "code",
   "execution_count": null,
   "metadata": {
    "collapsed": true
   },
   "outputs": [],
   "source": []
  }
 ],
 "metadata": {
  "kernelspec": {
   "display_name": "Python 3",
   "language": "python",
   "name": "python3"
  },
  "language_info": {
   "codemirror_mode": {
    "name": "ipython",
    "version": 3
   },
   "file_extension": ".py",
   "mimetype": "text/x-python",
   "name": "python",
   "nbconvert_exporter": "python",
   "pygments_lexer": "ipython3",
   "version": "3.6.1"
  }
 },
 "nbformat": 4,
 "nbformat_minor": 1
}
