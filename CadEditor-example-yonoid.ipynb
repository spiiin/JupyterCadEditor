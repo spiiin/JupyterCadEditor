{
 "cells": [
  {
   "cell_type": "markdown",
   "metadata": {
    "collapsed": true
   },
   "source": [
    "Инициализация.\n",
    "---"
   ]
  },
  {
   "cell_type": "code",
   "execution_count": null,
   "metadata": {
    "collapsed": false
   },
   "outputs": [],
   "source": [
    "import sys\n",
    "cadEditorDir = \"d:/DEV/CadEditor/CadEditor/\"\n",
    "sys.path.append(cadEditorDir)\n",
    "\n",
    "import clr\n",
    "clr.AddReference(\"CadEditor\")\n",
    "clr.AddReference(\"PluginVideoNes\")\n",
    "\n",
    "from PluginVideoNes import Video\n",
    "from CadEditor import UtilsGDI\n",
    "from System.Drawing import Bitmap\n",
    "from System import Array, Byte\n",
    "import array"
   ]
  },
  {
   "cell_type": "code",
   "execution_count": null,
   "metadata": {
    "collapsed": false
   },
   "outputs": [],
   "source": [
    "romName = cadEditorDir + \"/Yo! Noid (U) [!].nes\"\n",
    "with open(romName, \"rb\") as f:\n",
    "    d = f.read()"
   ]
  },
  {
   "cell_type": "markdown",
   "metadata": {},
   "source": [
    "Отображение видеобанка\n",
    "---"
   ]
  },
  {
   "cell_type": "code",
   "execution_count": null,
   "metadata": {
    "collapsed": true
   },
   "outputs": [],
   "source": [
    "#Создаём экземляр плагина для отрисовки NES-графики\n",
    "video = Video()"
   ]
  },
  {
   "cell_type": "code",
   "execution_count": null,
   "metadata": {
    "collapsed": false
   },
   "outputs": [],
   "source": [
    "def toDotNetArray(data):\n",
    "    return  Array[Byte](array.array('c', data))\n",
    "\n",
    "CHR_ADDR = 0x23010 #адрес банка видеопамяти для фона первого уровня\n",
    "CHR_BANK_SIZE = 0x1000\n",
    "chrData = d[CHR_ADDR:CHR_ADDR + CHR_BANK_SIZE]\n",
    "chrData = toDotNetArray(chrData)\n",
    "\n",
    "PAL_ADDR = 0x1AAEE #адрес палитры\n",
    "PAL_SIZE = 16\n",
    "palData = d[PAL_ADDR:PAL_ADDR + PAL_SIZE]\n",
    "palData = toDotNetArray(palData)"
   ]
  },
  {
   "cell_type": "code",
   "execution_count": null,
   "metadata": {
    "collapsed": false
   },
   "outputs": [],
   "source": [
    "chrBitmap = video.makeImageRectangle(chrData, palData, 0, 2.0, True, False)"
   ]
  },
  {
   "cell_type": "code",
   "execution_count": null,
   "metadata": {
    "collapsed": false
   },
   "outputs": [],
   "source": [
    "from IPython.display import display, Image\n",
    "picPath = \"D:/CadEditorPythonExamples/\"\n",
    "#сохраняем картинку в файл:\n",
    "chrBitmap.Save(picPath+\"chr0.png\")\n",
    "\n",
    "#отображаем её:\n",
    "Image(filename=picPath+\"chr0.png\")"
   ]
  },
  {
   "cell_type": "markdown",
   "metadata": {},
   "source": [
    "Отображение игровых блоков\n",
    "---"
   ]
  },
  {
   "cell_type": "markdown",
   "metadata": {},
   "source": [
    "Блоки в игре - это структуры размером 4x4 тайла, описываемые набором из 16 тайлов слева-направо сверху вниз. Для каждого блока также хранится 1 байт палитры (по 2 бита на подблок размером 2x2 тайла). Таким образом описания блока занимает 17 байт."
   ]
  },
  {
   "cell_type": "markdown",
   "metadata": {},
   "source": [
    "Например, описание одного из блоков:\n",
    "<pre>\n",
    "4440 - 16 тайлов видеопамяти\n",
    "43B6 - байт палитры блока, по два бита на каждый квадрат 2x2.\n",
    "(справа-налево, сверху-вниз)\n",
    "</pre>\n",
    "Рассмотрим построение изображения этого и соседних блоков:"
   ]
  },
  {
   "cell_type": "code",
   "execution_count": null,
   "metadata": {
    "collapsed": false
   },
   "outputs": [],
   "source": [
    "def renderBlock(TILE_INDEX_ADDR, PAL_BYTE_ADDR):\n",
    "    tileIndexes = map(ord, d[TILE_INDEX_ADDR:TILE_INDEX_ADDR+16])\n",
    "    palByte = ord(d[PAL_BYTE_ADDR])\n",
    "    #разложение на биты палитр для каждого из подблоков 2x2\n",
    "    palBits = [\n",
    "        (palByte>>0)&3, (palByte>>0)&3, (palByte>>2)&3, (palByte>>2)&3,\n",
    "        (palByte>>0)&3, (palByte>>0)&3, (palByte>>2)&3, (palByte>>2)&3,\n",
    "        (palByte>>4)&3, (palByte>>4)&3, (palByte>>6)&3, (palByte>>6)&3,\n",
    "        (palByte>>4)&3, (palByte>>4)&3, (palByte>>6)&3, (palByte>>6)&3,\n",
    "    ]\n",
    "\n",
    "    #строим 16 тайлов блока\n",
    "    tiles = [video.makeImage(tileIndex, chrData, palData, palBit, 2.0, True, False) for (tileIndex, palBit) in zip(tileIndexes, palBits)]\n",
    "    tiles =  Array[Bitmap](tiles)\n",
    "    #склеиваем их вместе\n",
    "    tileImage = UtilsGDI.GlueImages(tiles, 4,4)\n",
    "    return tileImage"
   ]
  },
  {
   "cell_type": "code",
   "execution_count": null,
   "metadata": {
    "collapsed": false
   },
   "outputs": [],
   "source": [
    "blocks = []\n",
    "#-------------------------------------------------------\n",
    "BLOCKS_COUNT = 138\n",
    "for x in xrange(BLOCKS_COUNT):\n",
    "    TILE_INDEX_ADDR = 0x4440 + x*16\n",
    "    PAL_BYTE_ADDR = 0x43B6 + x\n",
    "    blockImage = renderBlock(TILE_INDEX_ADDR, PAL_BYTE_ADDR)\n",
    "    blocks.append(blockImage)\n",
    "\n",
    "#отображаем первые 16 блоков\n",
    "for x in xrange(16):\n",
    "    blockImage = blocks[x]\n",
    "    #сохраняем картинку в файл:\n",
    "    blockImage.Save(picPath+\"block%d.png\"%x)\n",
    "    #отображаем её:\n",
    "    display(Image(filename=picPath+\"block%d.png\"%x))"
   ]
  },
  {
   "cell_type": "markdown",
   "metadata": {},
   "source": [
    "Кроме этого, каждый из 128 тайлов видеопамяти имеет характеристику проходимости, которая описывается диапазонами байт (для первого уровня в ROM: 0x4026 - 3 байта ответственных за физику, задают диапазоны блоков по типам - \"фон\", \"стена\", \"платформа\", \"шипы\"."
   ]
  },
  {
   "cell_type": "markdown",
   "metadata": {},
   "source": [
    "Построение экранов\n",
    "---"
   ]
  },
  {
   "cell_type": "markdown",
   "metadata": {},
   "source": [
    "Экраны описываются индексами блоков в порядке сверху-вниз слева-направо. Высота экрана - 7 блоков."
   ]
  },
  {
   "cell_type": "code",
   "execution_count": null,
   "metadata": {
    "collapsed": false
   },
   "outputs": [],
   "source": [
    "screenData = []\n",
    "SCREEN_BEGIN_ADDR = 0x4036\n",
    "SCREEN_WIDTH = 128\n",
    "SCREEN_HEIGHT = 7\n",
    "#считываем столбы\n",
    "for x in xrange(SCREEN_WIDTH):\n",
    "    colAddr = SCREEN_BEGIN_ADDR+x*SCREEN_HEIGHT\n",
    "    column = d[colAddr:colAddr+SCREEN_HEIGHT]\n",
    "    column = map(ord, column) #переход от символов к числам\n",
    "    screenData.append(column)\n",
    "    \n",
    "#транспонируем строки и столбцы, чтобы экран описывался построчно, а не постолбцово\n",
    "screenData = [list(x) for x in zip(*screenData)]\n",
    "#разворачиваем матрицу в плоский список\n",
    "screenData = [item for sublist in screenData for item in sublist]"
   ]
  },
  {
   "cell_type": "code",
   "execution_count": null,
   "metadata": {
    "collapsed": false
   },
   "outputs": [],
   "source": [
    "screenBlocks = [blocks[x] for x in screenData]\n",
    "screenImage = UtilsGDI.GlueImages(Array[Bitmap](screenBlocks), 128,7)\n",
    "screenImage.Save(picPath+\"screen0.png\")\n",
    "Image(filename=picPath+\"screen0.png\")"
   ]
  }
 ],
 "metadata": {
  "kernelspec": {
   "display_name": "Python 2",
   "language": "python",
   "name": "python2"
  },
  "language_info": {
   "codemirror_mode": {
    "name": "ipython",
    "version": 2
   },
   "file_extension": ".py",
   "mimetype": "text/x-python",
   "name": "python",
   "nbconvert_exporter": "python",
   "pygments_lexer": "ipython2",
   "version": "2.7.12"
  }
 },
 "nbformat": 4,
 "nbformat_minor": 0
}
