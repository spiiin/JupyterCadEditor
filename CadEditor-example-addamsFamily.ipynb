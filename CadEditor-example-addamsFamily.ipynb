{
 "cells": [
  {
   "cell_type": "code",
   "execution_count": 1,
   "metadata": {},
   "outputs": [],
   "source": [
    "import cadEditorPath\n",
    "from cadEditorPath import cadEditorDir, picPath\n",
    "\n",
    "import clr\n",
    "clr.AddReference(\"CadEditor\")\n",
    "clr.AddReference(\"PluginVideoNes\")\n",
    "\n",
    "from PluginVideoNes import Video\n",
    "from CadEditor import UtilsGDI\n",
    "from System.Drawing import Bitmap\n",
    "from System import Array, Byte\n",
    "import array\n",
    "from IPython.display import display, Image"
   ]
  },
  {
   "cell_type": "code",
   "execution_count": 2,
   "metadata": {
    "collapsed": true
   },
   "outputs": [],
   "source": [
    "romName = cadEditorDir + \"/Addams Family, The (E) [!].nes\"\n",
    "with open(romName, \"rb\") as f:\n",
    "    d = f.read()"
   ]
  },
  {
   "cell_type": "code",
   "execution_count": 3,
   "metadata": {
    "collapsed": true
   },
   "outputs": [],
   "source": [
    "video = Video()"
   ]
  },
  {
   "cell_type": "code",
   "execution_count": 4,
   "metadata": {},
   "outputs": [],
   "source": [
    "def toDotNetArray(data):\n",
    "    return  Array[Byte](array.array('B', data))\n",
    "\n",
    "CHR_ADDR = 0x21010 #адрес банка видеопамяти для фона первого уровня\n",
    "CHR_BANK_SIZE = 0x1000\n",
    "chrData = d[CHR_ADDR:CHR_ADDR + CHR_BANK_SIZE]\n",
    "chrData = toDotNetArray(chrData)\n",
    "\n",
    "PAL_ADDR = 0x2e0d #адрес палитры\n",
    "PAL_SIZE = 16\n",
    "palData = d[PAL_ADDR:PAL_ADDR + PAL_SIZE]\n",
    "palData = toDotNetArray(palData)"
   ]
  },
  {
   "cell_type": "code",
   "execution_count": 5,
   "metadata": {},
   "outputs": [
    {
     "data": {
      "image/png": "[encoded data removed]",
      "text/plain": [
       "<IPython.core.display.Image object>"
      ]
     },
     "execution_count": 5,
     "metadata": {},
     "output_type": "execute_result"
    }
   ],
   "source": [
    "chrBitmap = video.makeImageRectangle(chrData, palData, 0, False)\n",
    "picPath = \"D:/CadEditorPythonExamples/\"\n",
    "#сохраняем картинку в файл:\n",
    "chrBitmap.Save(picPath+\"chr0.png\")\n",
    "#отображаем её:\n",
    "Image(filename=picPath+\"chr0.png\")"
   ]
  },
  {
   "cell_type": "markdown",
   "metadata": {},
   "source": [
    "Отображение игровых блоков\n",
    "---"
   ]
  },
  {
   "cell_type": "markdown",
   "metadata": {},
   "source": [
    "Палитры описываются одним байтом на блок 4x4 тайла, по 2 бита на квадрат из 2x2 тайлов, описание слева-направо"
   ]
  },
  {
   "cell_type": "code",
   "execution_count": 6,
   "metadata": {},
   "outputs": [],
   "source": [
    "def readPalMatrix():\n",
    "    PAL_ADDRESS = 0xCCCC\n",
    "    PAL_ROW_LEN = 64\n",
    "    PAL_HEIGHT = 8 #read 5 bytes for row and additional 3 bytes for floors\n",
    "    pals = []\n",
    "    for x in range(PAL_HEIGHT):\n",
    "        rowBeginAddr = PAL_ADDRESS + x*PAL_ROW_LEN\n",
    "        row = d[rowBeginAddr:rowBeginAddr+PAL_ROW_LEN]\n",
    "        pals.append(row)\n",
    "    #транспонируем строки и столбцы, чтобы экран описывался постолбцово, а не построчно, соотвественно тому, как описываются тайлы\n",
    "    pals = [list(x) for x in zip(*pals)]\n",
    "    return pals\n",
    "\n",
    "palMatrix = readPalMatrix()"
   ]
  },
  {
   "cell_type": "code",
   "execution_count": 7,
   "metadata": {
    "collapsed": true
   },
   "outputs": [],
   "source": [
    "def makePalBitsForRow(pals, rowIndex):\n",
    "    palBlocks = pals[int(rowIndex/4)]\n",
    "    palBits = []\n",
    "    #\n",
    "    if (rowIndex%4 < 2):\n",
    "        for palBlockIndex in range(len(palBlocks)):\n",
    "            palBlock = palBlocks[palBlockIndex]\n",
    "            palBits.append((palBlock>>0) & 0x3)\n",
    "            palBits.append((palBlock>>0) & 0x3)\n",
    "            palBits.append((palBlock>>4) & 0x3)\n",
    "            palBits.append((palBlock>>4) & 0x3)\n",
    "    else:\n",
    "        for palBlockIndex in range(len(palBlocks)):\n",
    "            palBlock = palBlocks[palBlockIndex]\n",
    "            palBits.append((palBlock>>2) & 0x3)\n",
    "            palBits.append((palBlock>>2) & 0x3)\n",
    "            palBits.append((palBlock>>6) & 0x3)\n",
    "            palBits.append((palBlock>>6) & 0x3)\n",
    "    return palBits"
   ]
  },
  {
   "cell_type": "markdown",
   "metadata": {},
   "source": [
    "Уровень описывается индексами строк тайлов. Строки состоят из 20 тайлов в высоту"
   ]
  },
  {
   "cell_type": "code",
   "execution_count": 8,
   "metadata": {
    "collapsed": true
   },
   "outputs": [],
   "source": [
    "def makeColumnTiles(addr, height):\n",
    "    ts = []\n",
    "    for x in range(height):\n",
    "        tileIndex = d[addr+x]\n",
    "        ts.append(tileIndex)\n",
    "    return ts"
   ]
  },
  {
   "cell_type": "code",
   "execution_count": 9,
   "metadata": {
    "collapsed": true
   },
   "outputs": [],
   "source": [
    "def makeColumnImage(ts, palBits):\n",
    "    ti = []\n",
    "    for x in range(LEVEL_HEIGHT):\n",
    "        t = video.makeImage(ts[x], chrData, palData, palBits[x], False)\n",
    "        ti.append(t)\n",
    "    return UtilsGDI.GlueImages(Array[Bitmap](ti),1,LEVEL_HEIGHT)"
   ]
  },
  {
   "cell_type": "code",
   "execution_count": 10,
   "metadata": {},
   "outputs": [],
   "source": [
    "LINE_ADDR = 0xC282\n",
    "LEVEL_HEIGHT = 20\n",
    "\n",
    "FLOOR_ADDR = 0xCC34\n",
    "FLOOR_HEIGHT = 6\n",
    "\n",
    "LEVEL_WIDTH = 128\n",
    "lineTiles = []\n",
    "floorTiles = []\n",
    "for l in range(LEVEL_WIDTH):\n",
    "    lineTiles.append(makeColumnTiles(LINE_ADDR + l*LEVEL_HEIGHT, LEVEL_HEIGHT))\n",
    "    floorTiles.append(makeColumnTiles(FLOOR_ADDR + l*FLOOR_HEIGHT, FLOOR_HEIGHT))"
   ]
  },
  {
   "cell_type": "code",
   "execution_count": 11,
   "metadata": {
    "collapsed": true
   },
   "outputs": [],
   "source": [
    "def makeColumnImage(ts, palBits, height):\n",
    "    ti = []\n",
    "    for x in range(height):\n",
    "        t = video.makeImage(ts[x], chrData, palData, palBits[x], False)\n",
    "        ti.append(t)\n",
    "    return UtilsGDI.GlueImages(Array[Bitmap](ti), 1, height)"
   ]
  },
  {
   "cell_type": "code",
   "execution_count": 12,
   "metadata": {},
   "outputs": [
    {
     "data": {
      "image/png": "[encoded data removed]",
      "text/plain": [
       "<IPython.core.display.Image object>"
      ]
     },
     "metadata": {},
     "output_type": "display_data"
    },
    {
     "data": {
      "image/png": "[encoded data removed]",
      "text/plain": [
       "<IPython.core.display.Image object>"
      ]
     },
     "metadata": {},
     "output_type": "display_data"
    },
    {
     "data": {
      "image/png": "[encoded data removed]",
      "text/plain": [
       "<IPython.core.display.Image object>"
      ]
     },
     "metadata": {},
     "output_type": "display_data"
    }
   ],
   "source": [
    "for x in range(3):\n",
    "    im = makeColumnImage(lineTiles[x], [0]*LEVEL_HEIGHT, LEVEL_HEIGHT)\n",
    "    im.Save(picPath+\"line%d.png\"%x)\n",
    "    display(Image(filename=picPath+\"line%d.png\"%x))"
   ]
  },
  {
   "cell_type": "code",
   "execution_count": 13,
   "metadata": {},
   "outputs": [
    {
     "data": {
      "image/png": "[encoded data removed]",
      "text/plain": [
       "<IPython.core.display.Image object>"
      ]
     },
     "metadata": {},
     "output_type": "display_data"
    },
    {
     "data": {
      "image/png": "[encoded data removed]",
      "text/plain": [
       "<IPython.core.display.Image object>"
      ]
     },
     "metadata": {},
     "output_type": "display_data"
    },
    {
     "data": {
      "image/png": "[encoded data removed]",
      "text/plain": [
       "<IPython.core.display.Image object>"
      ]
     },
     "metadata": {},
     "output_type": "display_data"
    },
    {
     "data": {
      "image/png": "[encoded data removed]",
      "text/plain": [
       "<IPython.core.display.Image object>"
      ]
     },
     "metadata": {},
     "output_type": "display_data"
    }
   ],
   "source": [
    "for x in range(4):\n",
    "    im = makeColumnImage(floorTiles[x], [0]*(FLOOR_HEIGHT), FLOOR_HEIGHT)\n",
    "    im.Save(picPath+\"floor%d.png\"%x)\n",
    "    display(Image(filename=picPath+\"floor%d.png\"%x))"
   ]
  },
  {
   "cell_type": "code",
   "execution_count": 14,
   "metadata": {},
   "outputs": [],
   "source": [
    "def makeScreen():\n",
    "    LINES_COUNT = 256\n",
    "    \n",
    "    LINES_INDEXES_ADDR = 0xC0A8\n",
    "    indexes = d[LINES_INDEXES_ADDR:LINES_INDEXES_ADDR+LINES_COUNT]\n",
    "    \n",
    "    FLOOR_INDEXES_ADDR = 0xcb06\n",
    "    findexes = d[FLOOR_INDEXES_ADDR:FLOOR_INDEXES_ADDR+LINES_COUNT]\n",
    "    \n",
    "    linesPics = []\n",
    "    for x in range(LINES_COUNT):\n",
    "        palBits = makePalBitsForRow(palMatrix,x)\n",
    "        #lineImage = makeColumnImage([0x14]*20, palBits)\n",
    "        lineImage = makeColumnImage(lineTiles[indexes[x]], palBits, LEVEL_HEIGHT)\n",
    "        floorImage = makeColumnImage(floorTiles[findexes[x]], palBits[20:], FLOOR_HEIGHT)\n",
    "        totalImage = UtilsGDI.GlueImages(Array[Bitmap]([lineImage, floorImage]), 1, 2)\n",
    "        linesPics.append(totalImage)\n",
    "    return UtilsGDI.GlueImages(Array[Bitmap](linesPics), LINES_COUNT, 1)"
   ]
  },
  {
   "cell_type": "code",
   "execution_count": 15,
   "metadata": {},
   "outputs": [
    {
     "data": {
      "image/png": "[encoded data removed]",
      "text/plain": [
       "<IPython.core.display.Image object>"
      ]
     },
     "execution_count": 15,
     "metadata": {},
     "output_type": "execute_result"
    }
   ],
   "source": [
    "scr = makeScreen()\n",
    "scr.Save(picPath+\"scr0.png\")\n",
    "Image(filename=picPath+\"scr0.png\")"
   ]
  },
  {
   "cell_type": "code",
   "execution_count": null,
   "metadata": {
    "collapsed": true
   },
   "outputs": [],
   "source": []
  }
 ],
 "metadata": {
  "kernelspec": {
   "display_name": "Python 3",
   "language": "python",
   "name": "python3"
  },
  "language_info": {
   "codemirror_mode": {
    "name": "ipython",
    "version": 3
   },
   "file_extension": ".py",
   "mimetype": "text/x-python",
   "name": "python",
   "nbconvert_exporter": "python",
   "pygments_lexer": "ipython3",
   "version": "3.6.1"
  }
 },
 "nbformat": 4,
 "nbformat_minor": 1
}
