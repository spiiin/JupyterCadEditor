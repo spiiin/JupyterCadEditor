{
 "cells": [
  {
   "cell_type": "markdown",
   "metadata": {},
   "source": [
    "Скрипт загружает конфиг игры и находит количество неповторяющхся блоков и макроблоков. Может быть полезен для пережатия массивов для увеличения количества свободного места в ROM."
   ]
  },
  {
   "cell_type": "code",
   "execution_count": null,
   "metadata": {
    "collapsed": true
   },
   "outputs": [],
   "source": [
    "import cadEditorPath\n",
    "from cadEditorPath import cadEditorDir"
   ]
  },
  {
   "cell_type": "code",
   "execution_count": null,
   "metadata": {},
   "outputs": [],
   "source": [
    "import clr\n",
    "clr.AddReference(\"CadEditor\")\n",
    "clr.AddReference(\"PluginVideoNes\")\n",
    "clr.AddReference(\"System.Collections\")"
   ]
  },
  {
   "cell_type": "code",
   "execution_count": null,
   "metadata": {},
   "outputs": [],
   "source": [
    "from CadEditor import Globals, ConfigScript, BigBlock\n",
    "from PluginVideoNes import Video\n",
    "from System.Collections.Generic import HashSet"
   ]
  },
  {
   "cell_type": "code",
   "execution_count": null,
   "metadata": {},
   "outputs": [],
   "source": [
    "configs = [\n",
    "    (\"Darkwing Duck (U) [!].nes\", \"settings_darkwing_duck/Settings_DarkwingDuck-All.cs\"),\n",
    "    (\"Chip 'n Dale Rescue Rangers (U) [!].nes\", \"settings_chip_and_dale/Settings_ChipAndDale-All.cs\"),\n",
    "    (\"Duck Tales (U) [!].nes\", \"settings_duck_tales/Settings_DuckTales-All.cs\"),\n",
    "    (\"Duck Tales 2 (U) [!].nes\", \"settings_duck_tales_2/Settings_DuckTales2-All.cs\"),\n",
    "    (\"TaleSpin (E) [!].nes\", \"settings_tale_spin/Settings_TaleSpin-All.cs\"),\n",
    "]"
   ]
  },
  {
   "cell_type": "code",
   "execution_count": null,
   "metadata": {
    "collapsed": true
   },
   "outputs": [],
   "source": [
    "def chunks(l, n):\n",
    "    \"\"\"Yield successive n-sized chunks from l.\"\"\"\n",
    "    for i in range(0, len(l), n):\n",
    "        yield l[i:i + n]"
   ]
  },
  {
   "cell_type": "code",
   "execution_count": null,
   "metadata": {},
   "outputs": [],
   "source": [
    "for romName, configName in configs:\n",
    "    print(\"-\"*50)\n",
    "    print(\"ROMNAME\", romName)\n",
    "    print(\"-\"*50)\n",
    "    Globals.loadData(cadEditorDir + romName, \"\", cadEditorDir + configName)\n",
    "    \n",
    "    totalFree = 0\n",
    "    \n",
    "    print(\"Unique tiles count\")\n",
    "    vc = ConfigScript.videoOffset.recCount - 1\n",
    "    for x in range(vc):\n",
    "        v = list(ConfigScript.getVideoChunk(x))\n",
    "        tiles = list(chunks(v, 16))\n",
    "        tiles = [tuple(x) for x in tiles]\n",
    "        tilesCount = len(tiles)\n",
    "        tiles = list(set(tiles))\n",
    "        print(len(tiles),\"/\",tilesCount)\n",
    "    \n",
    "    print(\"Unique blocks count:\")\n",
    "    b = ConfigScript.blocksOffset.recCount;\n",
    "    \n",
    "    for x in range(b):\n",
    "        blocks = ConfigScript.getBlocks(x)\n",
    "        blocksCount = len(blocks)\n",
    "        blocks = list(set(blocks))\n",
    "        print(len(blocks), \"/\", blocksCount)\n",
    "        totalFree += (blocksCount-len(blocks))*4\n",
    "\n",
    "    print(\"Unique big blocks count:\")\n",
    "    bb = ConfigScript.bigBlocksOffsets[0].recCount;\n",
    "    for x in range(bb):\n",
    "        bigBlocks = ConfigScript.getBigBlocksRecursive(0,x)\n",
    "        bigBlocksCount = len(bigBlocks)\n",
    "        bigBlocks = list(set(bigBlocks))\n",
    "        print(len(bigBlocks), \"/\", bigBlocksCount)\n",
    "        totalFree += (bigBlocksCount-len(bigBlocks))*4\n",
    "    print(\"Can save bytes:\", totalFree)\n",
    "    print(\"-\"*50)"
   ]
  },
  {
   "cell_type": "code",
   "execution_count": null,
   "metadata": {},
   "outputs": [],
   "source": []
  }
 ],
 "metadata": {
  "kernelspec": {
   "display_name": "Python 3",
   "language": "python",
   "name": "python3"
  },
  "language_info": {
   "codemirror_mode": {
    "name": "ipython",
    "version": 3
   },
   "file_extension": ".py",
   "mimetype": "text/x-python",
   "name": "python",
   "nbconvert_exporter": "python",
   "pygments_lexer": "ipython3",
   "version": "3.6.1"
  }
 },
 "nbformat": 4,
 "nbformat_minor": 1
}
