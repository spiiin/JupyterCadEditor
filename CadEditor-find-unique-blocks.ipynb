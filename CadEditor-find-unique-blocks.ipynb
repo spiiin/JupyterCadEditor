{
 "cells": [
  {
   "cell_type": "markdown",
   "metadata": {},
   "source": [
    "Скрипт загружает конфиг игры и находит количество неповторяющхся блоков и макроблоков. Может быть полезен для пережатия массивов для увеличения количества свободного места в ROM."
   ]
  },
  {
   "cell_type": "code",
   "execution_count": 1,
   "metadata": {
    "collapsed": true
   },
   "outputs": [],
   "source": [
    "import sys\n",
    "cadEditorDir = \"d:/DEV/CadEditor/CadEditor/\"\n",
    "sys.path.append(cadEditorDir)"
   ]
  },
  {
   "cell_type": "code",
   "execution_count": 2,
   "metadata": {
    "collapsed": false
   },
   "outputs": [
    {
     "data": {
      "text/plain": [
       "<System.Reflection.RuntimeAssembly at 0x3e0ef80>"
      ]
     },
     "execution_count": 2,
     "metadata": {},
     "output_type": "execute_result"
    }
   ],
   "source": [
    "import clr\n",
    "clr.AddReference(\"CadEditor\")\n",
    "clr.AddReference(\"PluginVideoNes\")\n",
    "clr.AddReference(\"System.Collections\")"
   ]
  },
  {
   "cell_type": "code",
   "execution_count": 3,
   "metadata": {
    "collapsed": false
   },
   "outputs": [],
   "source": [
    "from CadEditor import Globals, ConfigScript, BigBlock\n",
    "from PluginVideoNes import Video\n",
    "from System.Collections.Generic import HashSet"
   ]
  },
  {
   "cell_type": "code",
   "execution_count": 4,
   "metadata": {
    "collapsed": false
   },
   "outputs": [],
   "source": [
    "configs = [\n",
    "    (\"Darkwing Duck (U) [!].nes\", \"settings_darkwing_duck/Settings_DarkwingDuck-All.cs\"),\n",
    "    (\"Chip 'n Dale Rescue Rangers (U) [!].nes\", \"settings_chip_and_dale/Settings_ChipAndDale-All.cs\"),\n",
    "    (\"Duck Tales (U) [!].nes\", \"settings_duck_tales/Settings_DuckTales-All.cs\"),\n",
    "    (\"Duck Tales 2 (U) [!].nes\", \"settings_duck_tales_2/Settings_DuckTales2-All.cs\"),\n",
    "    (\"TaleSpin (E) [!].nes\", \"settings_tale_spin/Settings_TaleSpin-All.cs\"),\n",
    "]"
   ]
  },
  {
   "cell_type": "code",
   "execution_count": 5,
   "metadata": {
    "collapsed": true
   },
   "outputs": [],
   "source": [
    "def chunks(l, n):\n",
    "    \"\"\"Yield successive n-sized chunks from l.\"\"\"\n",
    "    for i in range(0, len(l), n):\n",
    "        yield l[i:i + n]"
   ]
  },
  {
   "cell_type": "code",
   "execution_count": 6,
   "metadata": {
    "collapsed": false
   },
   "outputs": [
    {
     "name": "stdout",
     "output_type": "stream",
     "text": [
      "--------------------------------------------------\n",
      "ROMNAME Darkwing Duck (U) [!].nes\n",
      "--------------------------------------------------\n",
      "Unique tiles count\n",
      "251 / 256\n",
      "253 / 256\n",
      "256 / 256\n",
      "252 / 256\n",
      "253 / 256\n",
      "255 / 256\n",
      "256 / 256\n",
      "256 / 256\n",
      "256 / 256\n",
      "253 / 256\n",
      "254 / 256\n",
      "256 / 256\n",
      "253 / 256\n",
      "247 / 256\n",
      "256 / 256\n",
      "Unique blocks count:\n",
      "158 / 256\n",
      "245 / 256\n",
      "204 / 256\n",
      "170 / 256\n",
      "252 / 256\n",
      "232 / 256\n",
      "247 / 256\n",
      "255 / 256\n",
      "Unique big blocks count:\n",
      "252 / 256\n",
      "243 / 256\n",
      "254 / 256\n",
      "255 / 256\n",
      "254 / 256\n",
      "255 / 256\n",
      "254 / 256\n",
      "239 / 256\n",
      "Can save bytes: 1308\n",
      "--------------------------------------------------\n",
      "--------------------------------------------------\n",
      "ROMNAME Chip 'n Dale Rescue Rangers (U) [!].nes\n",
      "--------------------------------------------------\n",
      "Unique tiles count\n",
      "254 / 256\n",
      "253 / 256\n",
      "255 / 256\n",
      "255 / 256\n",
      "253 / 256\n",
      "252 / 256\n",
      "255 / 256\n",
      "254 / 256\n",
      "255 / 256\n",
      "235 / 256\n",
      "256 / 256\n",
      "246 / 256\n",
      "254 / 256\n",
      "252 / 256\n",
      "255 / 256\n",
      "Unique blocks count:\n",
      "240 / 256\n",
      "239 / 256\n",
      "207 / 256\n",
      "244 / 256\n",
      "237 / 256\n",
      "229 / 256\n",
      "211 / 256\n",
      "256 / 256\n",
      "Unique big blocks count:\n",
      "203 / 256\n",
      "255 / 256\n",
      "223 / 256\n",
      "236 / 256\n",
      "248 / 256\n",
      "206 / 256\n",
      "213 / 256\n",
      "238 / 256\n",
      "Can save bytes: 1644\n",
      "--------------------------------------------------\n",
      "--------------------------------------------------\n",
      "ROMNAME Duck Tales (U) [!].nes\n",
      "--------------------------------------------------\n",
      "Unique tiles count\n",
      "255 / 256\n",
      "255 / 256\n",
      "255 / 256\n",
      "255 / 256\n",
      "255 / 256\n",
      "Unique blocks count:\n",
      "250 / 256\n",
      "235 / 256\n",
      "249 / 256\n",
      "Unique big blocks count:\n",
      "450 / 512\n",
      "499 / 512\n",
      "511 / 512\n",
      "Can save bytes: 440\n",
      "--------------------------------------------------\n",
      "--------------------------------------------------\n",
      "ROMNAME Duck Tales 2 (U) [!].nes\n",
      "--------------------------------------------------\n",
      "Unique tiles count\n",
      "251 / 256\n",
      "250 / 256\n",
      "253 / 256\n",
      "248 / 256\n",
      "252 / 256\n",
      "219 / 256\n",
      "Unique blocks count:\n",
      "232 / 256\n",
      "233 / 256\n",
      "202 / 256\n",
      "256 / 256\n",
      "256 / 256\n",
      "Unique big blocks count:\n",
      "207 / 256\n",
      "196 / 256\n",
      "170 / 256\n",
      "Can save bytes: 1184\n",
      "--------------------------------------------------\n",
      "--------------------------------------------------\n",
      "ROMNAME TaleSpin (E) [!].nes\n",
      "--------------------------------------------------\n",
      "Unique tiles count\n",
      "228 / 256\n",
      "248 / 256\n",
      "222 / 256\n",
      "251 / 256\n",
      "255 / 256\n",
      "256 / 256\n",
      "241 / 256\n",
      "231 / 256\n",
      "231 / 256\n",
      "256 / 256\n",
      "256 / 256\n",
      "256 / 256\n",
      "206 / 256\n",
      "195 / 256\n",
      "235 / 256\n",
      "Unique blocks count:\n",
      "238 / 256\n",
      "249 / 256\n",
      "244 / 256\n",
      "242 / 256\n",
      "236 / 256\n",
      "249 / 256\n",
      "255 / 256\n",
      "256 / 256\n",
      "Unique big blocks count:\n",
      "207 / 256\n",
      "218 / 256\n",
      "251 / 256\n",
      "236 / 256\n",
      "249 / 256\n",
      "242 / 256\n",
      "241 / 256\n",
      "226 / 256\n",
      "Can save bytes: 1028\n",
      "--------------------------------------------------\n"
     ]
    }
   ],
   "source": [
    "for romName, configName in configs:\n",
    "    print \"-\"*50\n",
    "    print \"ROMNAME\", romName\n",
    "    print \"-\"*50\n",
    "    Globals.loadData(cadEditorDir + romName, \"\", cadEditorDir + configName)\n",
    "    \n",
    "    totalFree = 0\n",
    "    \n",
    "    print \"Unique tiles count\"\n",
    "    vc = ConfigScript.videoOffset.recCount - 1\n",
    "    for x in xrange(vc):\n",
    "        v = list(ConfigScript.getVideoChunk(0x80 + x))\n",
    "        tiles = list(chunks(v, 16))\n",
    "        tiles = map(tuple, tiles)\n",
    "        tilesCount = len(tiles)\n",
    "        tiles = list(set(tiles))\n",
    "        print len(tiles),\"/\",tilesCount\n",
    "    \n",
    "    print \"Unique blocks count:\"\n",
    "    b = ConfigScript.blocksOffset.recCount;\n",
    "    \n",
    "    for x in xrange(b):\n",
    "        blocks = ConfigScript.getBlocks(x)\n",
    "        blocksCount = len(blocks)\n",
    "        blocks = list(set(blocks))\n",
    "        print len(blocks), \"/\", blocksCount\n",
    "        totalFree += (blocksCount-len(blocks))*4\n",
    "\n",
    "    print \"Unique big blocks count:\"\n",
    "    bb = ConfigScript.bigBlocksOffsets[0].recCount;\n",
    "    for x in xrange(bb):\n",
    "        bigBlocks = ConfigScript.getBigBlocksRecursive(0,x)\n",
    "        bigBlocksCount = len(bigBlocks)\n",
    "        bigBlocks = list(set(bigBlocks))\n",
    "        print len(bigBlocks), \"/\", bigBlocksCount\n",
    "        totalFree += (bigBlocksCount-len(bigBlocks))*4\n",
    "    print \"Can save bytes:\", totalFree\n",
    "    print \"-\"*50"
   ]
  },
  {
   "cell_type": "code",
   "execution_count": null,
   "metadata": {
    "collapsed": false
   },
   "outputs": [],
   "source": []
  }
 ],
 "metadata": {
  "kernelspec": {
   "display_name": "Python 2",
   "language": "python",
   "name": "python2"
  },
  "language_info": {
   "codemirror_mode": {
    "name": "ipython",
    "version": 2
   },
   "file_extension": ".py",
   "mimetype": "text/x-python",
   "name": "python",
   "nbconvert_exporter": "python",
   "pygments_lexer": "ipython2",
   "version": "2.7.12"
  }
 },
 "nbformat": 4,
 "nbformat_minor": 0
}
